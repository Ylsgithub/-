{
 "cells": [
  {
   "cell_type": "markdown",
   "metadata": {},
   "source": [
    "# 第三次作业"
   ]
  },
  {
   "cell_type": "markdown",
   "metadata": {},
   "source": [
    "## 1.Householder 与Givens 在QR 分解中的比较\n"
   ]
  },
  {
   "cell_type": "markdown",
   "metadata": {},
   "source": [
    "### (a)"
   ]
  },
  {
   "cell_type": "markdown",
   "metadata": {},
   "source": [
    "由于在矩阵的计算之中，乘法的花销远比加法大，故只统计乘法的次数。"
   ]
  },
  {
   "cell_type": "markdown",
   "metadata": {},
   "source": [
    "对于Householder方法，计算$R$主要是反复把$P_k$左乘到$A$上,$k=0,1,\\cdots,n-2$，其中"
   ]
  },
  {
   "cell_type": "markdown",
   "metadata": {},
   "source": [
    "$P_k=\n",
    "\\left[\n",
    "\\begin{matrix}\n",
    " 1_k       & 0\\\\\n",
    " 0       & R_{n-k} \\\\\n",
    "\\end{matrix}\n",
    "\\right]$\n"
   ]
  },
  {
   "cell_type": "markdown",
   "metadata": {},
   "source": [
    "由于$P_k$的特殊性，矩阵乘法实际上只要计算一次矢量内积和一次矢量数乘，$P_k$乘以$A$乘法次数为$2n(n-k)$，总次数为$\\sum_{k=0}^{n-2}2n(n-k)=(n-1) n (n+2)=O(n^3)$，计算$Q$时同样也是$O(n^3)$，总共$O(2n^3)$"
   ]
  },
  {
   "cell_type": "markdown",
   "metadata": {},
   "source": [
    "对于Givens方法，计算$R$主要是把$G(i,k,\\theta)$左乘到$A$上,每乘一次有$4n$次乘法，总共要乘$1+2+\\cdots+n-1=\\frac{1}{2}n(n-1)$次"
   ]
  },
  {
   "cell_type": "markdown",
   "metadata": {},
   "source": [
    "故总次数为$2n^2(n-1)=O(2n^3)$，同样计算$Q$为$O(2n^3)$，总共$O(4n^3)$"
   ]
  },
  {
   "cell_type": "markdown",
   "metadata": {},
   "source": [
    "### (b)"
   ]
  },
  {
   "cell_type": "markdown",
   "metadata": {},
   "source": [
    "Household 算法代码如下："
   ]
  },
  {
   "cell_type": "code",
   "execution_count": 1,
   "metadata": {
    "collapsed": true
   },
   "outputs": [],
   "source": [
    "import numpy as np\n",
    "from numba import jit \n",
    "\n",
    "\n",
    "# Household 算法\n",
    "# 符号取与教材类似\n",
    "# 由x,m求v,0<=m<n\n",
    "def clv(x, m):\n",
    "    xt = np.copy(x)\n",
    "    xt[m] += np.linalg.norm(x)\n",
    "    return xt\n",
    "\n",
    "\n",
    "# 利用矢量相乘的方法计算P_k点乘一个矩阵，实现算法复杂度的降低\n",
    "# dim(w)=n-k\n",
    "def dotP(n, k, w, A):\n",
    "    if A.shape[0] != n:\n",
    "        print('error')\n",
    "    else:\n",
    "        a = np.copy(A)\n",
    "        m = a.shape[1]\n",
    "        normw2 = np.linalg.norm(w) ** 2\n",
    "        for i in range(0, m):\n",
    "            a[k:n, i] = a[k:n, i] - 2 / normw2 * np.dot(w, a[k:n, i]) * w\n",
    "        return a\n",
    "\n",
    "\n",
    "def QRHessenberg(A):\n",
    "    n = A.shape[0]\n",
    "    Q = np.identity(n)\n",
    "    R = np.copy(A)\n",
    "    for i in range(0, n-1):\n",
    "        w = clv(R[i:n, i],0)\n",
    "        Q = dotP(n, i, w, Q)\n",
    "        R = dotP(n, i, w, R)\n",
    "    return (np.transpose(Q), R)\n"
   ]
  },
  {
   "cell_type": "code",
   "execution_count": 2,
   "metadata": {},
   "outputs": [
    {
     "name": "stdout",
     "output_type": "stream",
     "text": [
      "(array([[-0.09712859, -0.23254763, -0.5151677 ,  0.81920075],\n",
      "       [-0.09712859, -0.23254763, -0.78237607, -0.56953957],\n",
      "       [-0.19425717, -0.91601078,  0.34466007, -0.06631625],\n",
      "       [-0.97128586,  0.22971168,  0.06082236, -0.01170287]]), array([[ -1.02956301e+01,  -4.66217214e+00,  -4.95355790e+00,\n",
      "         -1.65118597e+00],\n",
      "       [  5.55970637e-16,  -6.65313091e+00,  -2.54100823e+00,\n",
      "         -1.84903724e+00],\n",
      "       [  9.33183787e-16,  -2.24260833e-15,  -3.74239781e+00,\n",
      "         -2.43756446e+00],\n",
      "       [ -1.42728345e-15,  -1.96096737e-15,  -1.11022302e-16,\n",
      "          2.62924432e+00]]))\n"
     ]
    }
   ],
   "source": [
    "# test\n",
    "a = np.array([[1., 2, 3, 4], [1, 2, 4, 1], [2, 7, 2, 1], [10, 3, 4, 1.]])\n",
    "print(QRHessenberg(a))"
   ]
  },
  {
   "cell_type": "markdown",
   "metadata": {},
   "source": [
    "### (c)\n",
    "\n",
    "Givens算法如下："
   ]
  },
  {
   "cell_type": "code",
   "execution_count": 3,
   "metadata": {
    "collapsed": true
   },
   "outputs": [],
   "source": [
    "# G(i,k,theta)\n",
    "def Gik(i, k, n, xi, xk):\n",
    "    g = np.identity(n, dtype=float)\n",
    "    norm = np.sqrt(xi ** 2 + xk ** 2)\n",
    "    sint = xk / norm\n",
    "    cost = xi / norm\n",
    "    g[i, i] = g[k, k] = cost\n",
    "    g[i, k] = sint\n",
    "    g[k, i] = -sint\n",
    "    return g\n",
    "\n",
    "\n",
    "def QRGivens(A):\n",
    "    n = A.shape[0]\n",
    "    Q = np.identity(n)\n",
    "    R = np.copy(A)\n",
    "    for i in range(n - 1, 0, -1):\n",
    "        for j in range(0, n - i):\n",
    "            ii = i + j  # ii,j为Givens矩阵的左下角对应于A的index\n",
    "            g = Gik(ii - 1, ii, n, R[ii - 1, j], R[ii, j])\n",
    "            Q = np.dot(g, Q)\n",
    "            R = np.dot(g, R)\n",
    "    return (np.transpose(Q), R)"
   ]
  },
  {
   "cell_type": "code",
   "execution_count": 4,
   "metadata": {},
   "outputs": [
    {
     "name": "stdout",
     "output_type": "stream",
     "text": [
      "(array([[ 0.09712859,  0.23254763,  0.5151677 ,  0.81920075],\n",
      "       [ 0.09712859,  0.23254763,  0.78237607, -0.56953957],\n",
      "       [ 0.19425717,  0.91601078, -0.34466007, -0.06631625],\n",
      "       [ 0.97128586, -0.22971168, -0.06082236, -0.01170287]]), array([[ 10.29563014,   4.66217214,   4.9535579 ,   1.65118597],\n",
      "       [  0.        ,   6.65313091,   2.54100823,   1.84903724],\n",
      "       [  0.        ,   0.        ,   3.74239781,   2.43756446],\n",
      "       [  0.        ,   0.        ,   0.        ,   2.62924432]]))\n"
     ]
    }
   ],
   "source": [
    "# test\n",
    "a = np.array([[1., 2, 3, 4], [1, 2, 4, 1], [2, 7, 2, 1], [10, 3, 4, 1.]])\n",
    "print(QRGivens(a))"
   ]
  },
  {
   "cell_type": "markdown",
   "metadata": {},
   "source": [
    "### (d)\n",
    "\n",
    "测试如下："
   ]
  },
  {
   "cell_type": "code",
   "execution_count": 5,
   "metadata": {
    "collapsed": true
   },
   "outputs": [],
   "source": [
    "import time\n",
    "timeHousehold=[]\n",
    "timeGivens=[]\n",
    "for i in range(0,20):\n",
    "    a=2*np.random.random((6,6))-1\n",
    "    tic1=time.clock()\n",
    "    QRHessenberg(a)\n",
    "    toc1=time.clock()\n",
    "    timeHousehold.append(toc1-tic1)\n",
    "    tic2=time.clock()\n",
    "    QRGivens(a)\n",
    "    toc2=time.clock()\n",
    "    timeGivens.append(toc2-tic2)"
   ]
  },
  {
   "cell_type": "markdown",
   "metadata": {},
   "source": [
    "时间列表如下："
   ]
  },
  {
   "cell_type": "code",
   "execution_count": 6,
   "metadata": {},
   "outputs": [
    {
     "data": {
      "text/html": [
       "<div>\n",
       "<style>\n",
       "    .dataframe thead tr:only-child th {\n",
       "        text-align: right;\n",
       "    }\n",
       "\n",
       "    .dataframe thead th {\n",
       "        text-align: left;\n",
       "    }\n",
       "\n",
       "    .dataframe tbody tr th {\n",
       "        vertical-align: top;\n",
       "    }\n",
       "</style>\n",
       "<table border=\"1\" class=\"dataframe\">\n",
       "  <thead>\n",
       "    <tr style=\"text-align: right;\">\n",
       "      <th></th>\n",
       "      <th>Givens</th>\n",
       "      <th>Household</th>\n",
       "    </tr>\n",
       "  </thead>\n",
       "  <tbody>\n",
       "    <tr>\n",
       "      <th>0</th>\n",
       "      <td>0.000386</td>\n",
       "      <td>0.001585</td>\n",
       "    </tr>\n",
       "    <tr>\n",
       "      <th>1</th>\n",
       "      <td>0.000463</td>\n",
       "      <td>0.001342</td>\n",
       "    </tr>\n",
       "    <tr>\n",
       "      <th>2</th>\n",
       "      <td>0.000179</td>\n",
       "      <td>0.000688</td>\n",
       "    </tr>\n",
       "    <tr>\n",
       "      <th>3</th>\n",
       "      <td>0.000203</td>\n",
       "      <td>0.000589</td>\n",
       "    </tr>\n",
       "    <tr>\n",
       "      <th>4</th>\n",
       "      <td>0.000503</td>\n",
       "      <td>0.000455</td>\n",
       "    </tr>\n",
       "    <tr>\n",
       "      <th>5</th>\n",
       "      <td>0.000761</td>\n",
       "      <td>0.001207</td>\n",
       "    </tr>\n",
       "    <tr>\n",
       "      <th>6</th>\n",
       "      <td>0.000186</td>\n",
       "      <td>0.000998</td>\n",
       "    </tr>\n",
       "    <tr>\n",
       "      <th>7</th>\n",
       "      <td>0.000176</td>\n",
       "      <td>0.000533</td>\n",
       "    </tr>\n",
       "    <tr>\n",
       "      <th>8</th>\n",
       "      <td>0.000168</td>\n",
       "      <td>0.000407</td>\n",
       "    </tr>\n",
       "    <tr>\n",
       "      <th>9</th>\n",
       "      <td>0.000209</td>\n",
       "      <td>0.000715</td>\n",
       "    </tr>\n",
       "    <tr>\n",
       "      <th>10</th>\n",
       "      <td>0.000176</td>\n",
       "      <td>0.000544</td>\n",
       "    </tr>\n",
       "    <tr>\n",
       "      <th>11</th>\n",
       "      <td>0.000229</td>\n",
       "      <td>0.000509</td>\n",
       "    </tr>\n",
       "    <tr>\n",
       "      <th>12</th>\n",
       "      <td>0.000158</td>\n",
       "      <td>0.000398</td>\n",
       "    </tr>\n",
       "    <tr>\n",
       "      <th>13</th>\n",
       "      <td>0.000165</td>\n",
       "      <td>0.000495</td>\n",
       "    </tr>\n",
       "    <tr>\n",
       "      <th>14</th>\n",
       "      <td>0.000233</td>\n",
       "      <td>0.000464</td>\n",
       "    </tr>\n",
       "    <tr>\n",
       "      <th>15</th>\n",
       "      <td>0.000372</td>\n",
       "      <td>0.001036</td>\n",
       "    </tr>\n",
       "    <tr>\n",
       "      <th>16</th>\n",
       "      <td>0.000332</td>\n",
       "      <td>0.001337</td>\n",
       "    </tr>\n",
       "    <tr>\n",
       "      <th>17</th>\n",
       "      <td>0.000433</td>\n",
       "      <td>0.000943</td>\n",
       "    </tr>\n",
       "    <tr>\n",
       "      <th>18</th>\n",
       "      <td>0.000466</td>\n",
       "      <td>0.001083</td>\n",
       "    </tr>\n",
       "    <tr>\n",
       "      <th>19</th>\n",
       "      <td>0.000375</td>\n",
       "      <td>0.009920</td>\n",
       "    </tr>\n",
       "  </tbody>\n",
       "</table>\n",
       "</div>"
      ],
      "text/plain": [
       "      Givens  Household\n",
       "0   0.000386   0.001585\n",
       "1   0.000463   0.001342\n",
       "2   0.000179   0.000688\n",
       "3   0.000203   0.000589\n",
       "4   0.000503   0.000455\n",
       "5   0.000761   0.001207\n",
       "6   0.000186   0.000998\n",
       "7   0.000176   0.000533\n",
       "8   0.000168   0.000407\n",
       "9   0.000209   0.000715\n",
       "10  0.000176   0.000544\n",
       "11  0.000229   0.000509\n",
       "12  0.000158   0.000398\n",
       "13  0.000165   0.000495\n",
       "14  0.000233   0.000464\n",
       "15  0.000372   0.001036\n",
       "16  0.000332   0.001337\n",
       "17  0.000433   0.000943\n",
       "18  0.000466   0.001083\n",
       "19  0.000375   0.009920"
      ]
     },
     "execution_count": 6,
     "metadata": {},
     "output_type": "execute_result"
    }
   ],
   "source": [
    "import pandas as pd\n",
    "pd.DataFrame({'Household':timeHousehold,\n",
    "             'Givens':timeGivens})"
   ]
  },
  {
   "cell_type": "markdown",
   "metadata": {},
   "source": [
    "绘图如下："
   ]
  },
  {
   "cell_type": "code",
   "execution_count": 7,
   "metadata": {},
   "outputs": [
    {
     "data": {
      "image/png": "[encoded data removed]",
      "text/plain": [
       "<matplotlib.figure.Figure at 0x1f6acf65320>"
      ]
     },
     "metadata": {},
     "output_type": "display_data"
    }
   ],
   "source": [
    "from matplotlib import pyplot as plt\n",
    "plt.figure\n",
    "plt.plot(timeHousehold,label='Household')\n",
    "plt.plot(timeGivens,label='Givens')\n",
    "plt.legend(loc=0)\n",
    "plt.show()"
   ]
  },
  {
   "cell_type": "markdown",
   "metadata": {},
   "source": [
    "可以看出，对于较小的n (n=6)来说，Household方法比Givens方法要来得慢。"
   ]
  },
  {
   "cell_type": "markdown",
   "metadata": {},
   "source": [
    "## 2. 幂次法求矩阵最大模的本征值和本征矢"
   ]
  },
  {
   "cell_type": "markdown",
   "metadata": {},
   "source": [
    "### (a)"
   ]
  },
  {
   "cell_type": "markdown",
   "metadata": {},
   "source": [
    "由$\\ddot{x}=-A\\cdot x$，有$\\ddot{x_i}=-A_{ij}x_j$，带入$x=Xe^{-i\\omega t}$，有"
   ]
  },
  {
   "cell_type": "markdown",
   "metadata": {},
   "source": [
    "$-\\omega^2X_ie^{-i\\omega t}=-A_{ij}X_je^{-i\\omega t}$,$A_{ij}X_j=\\omega^2X_i$"
   ]
  },
  {
   "cell_type": "markdown",
   "metadata": {},
   "source": [
    "所以$A\\cdot X=\\lambda X,\\lambda=\\omega^2$"
   ]
  },
  {
   "cell_type": "markdown",
   "metadata": {},
   "source": [
    "### (b)"
   ]
  },
  {
   "cell_type": "markdown",
   "metadata": {
    "collapsed": true
   },
   "source": [
    "证明："
   ]
  },
  {
   "cell_type": "markdown",
   "metadata": {},
   "source": [
    "设$q^{(0)}=\\sum_{i=1}^na_iv_i$，$a_1\\neq0,v_i$为A的单位正交基矢，$Av_i=\\lambda_i v_i$"
   ]
  },
  {
   "cell_type": "markdown",
   "metadata": {},
   "source": [
    "则由$z^{(k+1)}=A\\cdot q^{(k)}=\\frac{Az^{(k)}}{||z^{(k)}||}$，$z^{(0)}=q^{(0)}$知"
   ]
  },
  {
   "cell_type": "markdown",
   "metadata": {},
   "source": [
    "$z^{(m)}=\\frac{A^mq^{(0)}}{\\Pi_{k=1}^{m-1}||z^{(k)}||}=\\frac{A^m\\sum_{i=1}^na_iv_i}{\\Pi_{k=1}^{m-1}||z^{(k)}||}\n",
    "=\\frac{\\sum_{i=1}^na_iA^mv_i}{\\Pi_{k=1}^{m-1}||z^{(k)}||}=\\frac{\\sum_{i=1}^na_i\\lambda_i^mv_i}{\\Pi_{k=1}^{m-1}||z^{(k)}||}\n",
    "=$"
   ]
  },
  {
   "cell_type": "markdown",
   "metadata": {},
   "source": [
    "$=\\sum_{i=1}^n\\frac{a_i \\lambda_1^m}{\\Pi_{k=1}^{m-1}||z^{(k)}||}\\cdot(\\frac{\\lambda_i}{\\lambda_1})^mv_i$"
   ]
  },
  {
   "cell_type": "markdown",
   "metadata": {},
   "source": [
    "当$m\\to\\infty$时，由算法知$z^(m)$是有界的，故$\\frac{a_i \\lambda_1^m}{\\Pi_{k=1}^{m-1}||z^{(k)}||}$是有界的，取极限有"
   ]
  },
  {
   "cell_type": "markdown",
   "metadata": {},
   "source": [
    "$\\lim_{m\\to\\infty}z^{(m)}=\\sum_{i=1}^n\\lim_{m\\to\\infty}\\frac{a_i \\lambda_1^m}{\\Pi_{k=1}^{m-1}||z^{(k)}||}\\cdot\\lim_{m\\to\\infty}(\\frac{\\lambda_i}{\\lambda_1})^mv_i\n",
    "=\\lim_{m\\to\\infty}\\frac{a_i \\lambda_1^m}{\\Pi_{k=1}^{m-1}||z^{(k)}||}\\cdot v_1$"
   ]
  },
  {
   "cell_type": "markdown",
   "metadata": {},
   "source": [
    "故$\\lim_{m\\to\\infty}q^{(m)}=\\lim_{m\\to\\infty}\\frac{z^{(m)}}{||z^{(m)}||}=v_1$"
   ]
  },
  {
   "cell_type": "markdown",
   "metadata": {},
   "source": [
    "从而$\\lim_{m\\to\\infty}\\nu_m=\\lim_{m\\to\\infty}[q^{(m)}]^\\dagger Aq^{(m)}=[v_1]^\\dagger Av_1=\\lambda_1[v_1]^\\dagger v_1=\\lambda_1$"
   ]
  },
  {
   "cell_type": "markdown",
   "metadata": {},
   "source": [
    "对于N=10，计算代码和结果如下："
   ]
  },
  {
   "cell_type": "code",
   "execution_count": 8,
   "metadata": {},
   "outputs": [
    {
     "name": "stdout",
     "output_type": "stream",
     "text": [
      "(array([ 0.1201312 , -0.23053008,  0.32225276, -0.38786843,  0.4220613 ,\n",
      "       -0.42206126,  0.38786834, -0.32225264,  0.23052996, -0.12013113]), 3.9189859472289896)\n"
     ]
    }
   ],
   "source": [
    "def genA(n):\n",
    "    a = np.zeros((n, n), dtype=float)\n",
    "    for i in range(0, n - 1):\n",
    "        a[i, i] = 2\n",
    "        a[i, i + 1] = -1\n",
    "        a[i + 1, i] = -1\n",
    "    a[n - 1, n - 1] = 2\n",
    "    return a\n",
    "\n",
    "\n",
    "def calcA(A):\n",
    "    n = A.shape[0]\n",
    "    q = np.random.random((n, 1))\n",
    "    q = 1 / np.linalg.norm(q) * q\n",
    "    qq = np.zeros((n, 1))\n",
    "    z = np.copy(q)\n",
    "    while np.linalg.norm(qq - q) > 1e-8:\n",
    "        qq = np.copy(q)\n",
    "        z = np.dot(A, q)\n",
    "        q = 1 / np.linalg.norm(z) * z\n",
    "    return (q.reshape(n), np.transpose(q).dot(A).dot(q)[0,0])\n",
    "\n",
    "\n",
    "print(calcA(genA(10)))\n"
   ]
  }
 ],
 "metadata": {
  "kernelspec": {
   "display_name": "Python 3",
   "language": "python",
   "name": "python3"
  },
  "language_info": {
   "codemirror_mode": {
    "name": "ipython",
    "version": 3
   },
   "file_extension": ".py",
   "mimetype": "text/x-python",
   "name": "python",
   "nbconvert_exporter": "python",
   "pygments_lexer": "ipython3",
   "version": "3.6.1"
  }
 },
 "nbformat": 4,
 "nbformat_minor": 2
}
