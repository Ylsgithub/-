{
 "cells": [
  {
   "cell_type": "markdown",
   "metadata": {},
   "source": [
    "# 第二次作业"
   ]
  },
  {
   "cell_type": "markdown",
   "metadata": {},
   "source": [
    "## 朱杰 1500011610 物理学院"
   ]
  },
  {
   "cell_type": "markdown",
   "metadata": {},
   "source": [
    "## 1.Runge 效应"
   ]
  },
  {
   "cell_type": "markdown",
   "metadata": {},
   "source": [
    "### (a).\n",
    "使用Lagrange插值，插值算法如下："
   ]
  },
  {
   "cell_type": "code",
   "execution_count": 1,
   "metadata": {
    "collapsed": true
   },
   "outputs": [],
   "source": [
    "import numpy as np\n",
    "from numpy import polymul, polyval, poly1d, polyadd\n",
    "\n",
    "# L_j(x),j=0,1,2,...,n,n+1个数确定n阶多项式\n",
    "def L(x, j):\n",
    "    p = poly1d([1])\n",
    "    n = x.size - 1\n",
    "    for i in range(0, n + 1): # \\Pi_{i=0,i!=j}^n(x-x[i])/(x[j]-x[i])\n",
    "        if i != j:\n",
    "            p = polymul(p, poly1d([1 / (x[j] - x[i]), -x[i] / (x[j] - x[i])]))\n",
    "    return p\n",
    "\n",
    "# Lagrange插值得到多项式\n",
    "def poly_Lag(x, y):\n",
    "    p = poly1d([0])\n",
    "    n = x.size - 1\n",
    "    for i in range(0, n + 1):\n",
    "        p = polyadd(p, y[i] * L(x, i)) # sum of y[i]*L_i(x)\n",
    "    return p\n"
   ]
  },
  {
   "cell_type": "markdown",
   "metadata": {},
   "source": [
    "对$f(x)$的插值："
   ]
  },
  {
   "cell_type": "code",
   "execution_count": 2,
   "metadata": {
    "collapsed": true
   },
   "outputs": [],
   "source": [
    "# 定义f(x)\n",
    "def f(x): return 1 / (1 + 25 * x ** 2)\n",
    "\n",
    "#x,y值的列表\n",
    "xs = np.linspace(-1, 1, 21) # x\n",
    "ys = f(xs) # y\n",
    "\n",
    "# 插值多项式\n",
    "p = poly_Lag(xs, ys)\n",
    "f_p = lambda x: polyval(p, x) #f_p为插值后的函数"
   ]
  },
  {
   "cell_type": "markdown",
   "metadata": {},
   "source": [
    "结果列表如下："
   ]
  },
  {
   "cell_type": "code",
   "execution_count": 3,
   "metadata": {},
   "outputs": [
    {
     "data": {
      "text/html": [
       "<div>\n",
       "<style>\n",
       "    .dataframe thead tr:only-child th {\n",
       "        text-align: right;\n",
       "    }\n",
       "\n",
       "    .dataframe thead th {\n",
       "        text-align: left;\n",
       "    }\n",
       "\n",
       "    .dataframe tbody tr th {\n",
       "        vertical-align: top;\n",
       "    }\n",
       "</style>\n",
       "<table border=\"1\" class=\"dataframe\">\n",
       "  <thead>\n",
       "    <tr style=\"text-align: right;\">\n",
       "      <th></th>\n",
       "      <th>P20(x)</th>\n",
       "      <th>f(x)</th>\n",
       "      <th>x</th>\n",
       "      <th>|f(x)-P20(x)|</th>\n",
       "    </tr>\n",
       "  </thead>\n",
       "  <tbody>\n",
       "    <tr>\n",
       "      <th>0</th>\n",
       "      <td>0.038460</td>\n",
       "      <td>0.038462</td>\n",
       "      <td>-1.00</td>\n",
       "      <td>1.927311e-06</td>\n",
       "    </tr>\n",
       "    <tr>\n",
       "      <th>1</th>\n",
       "      <td>-39.952450</td>\n",
       "      <td>0.042440</td>\n",
       "      <td>-0.95</td>\n",
       "      <td>3.999489e+01</td>\n",
       "    </tr>\n",
       "    <tr>\n",
       "      <th>2</th>\n",
       "      <td>0.047058</td>\n",
       "      <td>0.047059</td>\n",
       "      <td>-0.90</td>\n",
       "      <td>5.606061e-07</td>\n",
       "    </tr>\n",
       "    <tr>\n",
       "      <th>3</th>\n",
       "      <td>3.454958</td>\n",
       "      <td>0.052459</td>\n",
       "      <td>-0.85</td>\n",
       "      <td>3.402498e+00</td>\n",
       "    </tr>\n",
       "    <tr>\n",
       "      <th>4</th>\n",
       "      <td>0.058823</td>\n",
       "      <td>0.058824</td>\n",
       "      <td>-0.80</td>\n",
       "      <td>1.441214e-07</td>\n",
       "    </tr>\n",
       "    <tr>\n",
       "      <th>5</th>\n",
       "      <td>-0.447052</td>\n",
       "      <td>0.066390</td>\n",
       "      <td>-0.75</td>\n",
       "      <td>5.134421e-01</td>\n",
       "    </tr>\n",
       "    <tr>\n",
       "      <th>6</th>\n",
       "      <td>0.075472</td>\n",
       "      <td>0.075472</td>\n",
       "      <td>-0.70</td>\n",
       "      <td>3.160471e-08</td>\n",
       "    </tr>\n",
       "    <tr>\n",
       "      <th>7</th>\n",
       "      <td>0.202423</td>\n",
       "      <td>0.086486</td>\n",
       "      <td>-0.65</td>\n",
       "      <td>1.159361e-01</td>\n",
       "    </tr>\n",
       "    <tr>\n",
       "      <th>8</th>\n",
       "      <td>0.100000</td>\n",
       "      <td>0.100000</td>\n",
       "      <td>-0.60</td>\n",
       "      <td>5.630298e-09</td>\n",
       "    </tr>\n",
       "    <tr>\n",
       "      <th>9</th>\n",
       "      <td>0.080660</td>\n",
       "      <td>0.116788</td>\n",
       "      <td>-0.55</td>\n",
       "      <td>3.612833e-02</td>\n",
       "    </tr>\n",
       "    <tr>\n",
       "      <th>10</th>\n",
       "      <td>0.137931</td>\n",
       "      <td>0.137931</td>\n",
       "      <td>-0.50</td>\n",
       "      <td>7.564210e-10</td>\n",
       "    </tr>\n",
       "    <tr>\n",
       "      <th>11</th>\n",
       "      <td>0.179763</td>\n",
       "      <td>0.164948</td>\n",
       "      <td>-0.45</td>\n",
       "      <td>1.481418e-02</td>\n",
       "    </tr>\n",
       "    <tr>\n",
       "      <th>12</th>\n",
       "      <td>0.200000</td>\n",
       "      <td>0.200000</td>\n",
       "      <td>-0.40</td>\n",
       "      <td>6.700762e-11</td>\n",
       "    </tr>\n",
       "    <tr>\n",
       "      <th>13</th>\n",
       "      <td>0.238446</td>\n",
       "      <td>0.246154</td>\n",
       "      <td>-0.35</td>\n",
       "      <td>7.707912e-03</td>\n",
       "    </tr>\n",
       "    <tr>\n",
       "      <th>14</th>\n",
       "      <td>0.307692</td>\n",
       "      <td>0.307692</td>\n",
       "      <td>-0.30</td>\n",
       "      <td>2.777778e-12</td>\n",
       "    </tr>\n",
       "    <tr>\n",
       "      <th>15</th>\n",
       "      <td>0.395093</td>\n",
       "      <td>0.390244</td>\n",
       "      <td>-0.25</td>\n",
       "      <td>4.849151e-03</td>\n",
       "    </tr>\n",
       "    <tr>\n",
       "      <th>16</th>\n",
       "      <td>0.500000</td>\n",
       "      <td>0.500000</td>\n",
       "      <td>-0.20</td>\n",
       "      <td>3.363976e-14</td>\n",
       "    </tr>\n",
       "    <tr>\n",
       "      <th>17</th>\n",
       "      <td>0.636755</td>\n",
       "      <td>0.640000</td>\n",
       "      <td>-0.15</td>\n",
       "      <td>3.244664e-03</td>\n",
       "    </tr>\n",
       "    <tr>\n",
       "      <th>18</th>\n",
       "      <td>0.800000</td>\n",
       "      <td>0.800000</td>\n",
       "      <td>-0.10</td>\n",
       "      <td>3.774758e-15</td>\n",
       "    </tr>\n",
       "    <tr>\n",
       "      <th>19</th>\n",
       "      <td>0.942490</td>\n",
       "      <td>0.941176</td>\n",
       "      <td>-0.05</td>\n",
       "      <td>1.313909e-03</td>\n",
       "    </tr>\n",
       "    <tr>\n",
       "      <th>20</th>\n",
       "      <td>1.000000</td>\n",
       "      <td>1.000000</td>\n",
       "      <td>0.00</td>\n",
       "      <td>0.000000e+00</td>\n",
       "    </tr>\n",
       "    <tr>\n",
       "      <th>21</th>\n",
       "      <td>0.942490</td>\n",
       "      <td>0.941176</td>\n",
       "      <td>0.05</td>\n",
       "      <td>1.313909e-03</td>\n",
       "    </tr>\n",
       "    <tr>\n",
       "      <th>22</th>\n",
       "      <td>0.800000</td>\n",
       "      <td>0.800000</td>\n",
       "      <td>0.10</td>\n",
       "      <td>4.440892e-16</td>\n",
       "    </tr>\n",
       "    <tr>\n",
       "      <th>23</th>\n",
       "      <td>0.636755</td>\n",
       "      <td>0.640000</td>\n",
       "      <td>0.15</td>\n",
       "      <td>3.244664e-03</td>\n",
       "    </tr>\n",
       "    <tr>\n",
       "      <th>24</th>\n",
       "      <td>0.500000</td>\n",
       "      <td>0.500000</td>\n",
       "      <td>0.20</td>\n",
       "      <td>1.665335e-15</td>\n",
       "    </tr>\n",
       "    <tr>\n",
       "      <th>25</th>\n",
       "      <td>0.395093</td>\n",
       "      <td>0.390244</td>\n",
       "      <td>0.25</td>\n",
       "      <td>4.849151e-03</td>\n",
       "    </tr>\n",
       "    <tr>\n",
       "      <th>26</th>\n",
       "      <td>0.307692</td>\n",
       "      <td>0.307692</td>\n",
       "      <td>0.30</td>\n",
       "      <td>7.049916e-15</td>\n",
       "    </tr>\n",
       "    <tr>\n",
       "      <th>27</th>\n",
       "      <td>0.238446</td>\n",
       "      <td>0.246154</td>\n",
       "      <td>0.35</td>\n",
       "      <td>7.707912e-03</td>\n",
       "    </tr>\n",
       "    <tr>\n",
       "      <th>28</th>\n",
       "      <td>0.200000</td>\n",
       "      <td>0.200000</td>\n",
       "      <td>0.40</td>\n",
       "      <td>8.432144e-14</td>\n",
       "    </tr>\n",
       "    <tr>\n",
       "      <th>29</th>\n",
       "      <td>0.179763</td>\n",
       "      <td>0.164948</td>\n",
       "      <td>0.45</td>\n",
       "      <td>1.481418e-02</td>\n",
       "    </tr>\n",
       "    <tr>\n",
       "      <th>30</th>\n",
       "      <td>0.137931</td>\n",
       "      <td>0.137931</td>\n",
       "      <td>0.50</td>\n",
       "      <td>1.210643e-12</td>\n",
       "    </tr>\n",
       "    <tr>\n",
       "      <th>31</th>\n",
       "      <td>0.080660</td>\n",
       "      <td>0.116788</td>\n",
       "      <td>0.55</td>\n",
       "      <td>3.612833e-02</td>\n",
       "    </tr>\n",
       "    <tr>\n",
       "      <th>32</th>\n",
       "      <td>0.100000</td>\n",
       "      <td>0.100000</td>\n",
       "      <td>0.60</td>\n",
       "      <td>1.194100e-11</td>\n",
       "    </tr>\n",
       "    <tr>\n",
       "      <th>33</th>\n",
       "      <td>0.202423</td>\n",
       "      <td>0.086486</td>\n",
       "      <td>0.65</td>\n",
       "      <td>1.159361e-01</td>\n",
       "    </tr>\n",
       "    <tr>\n",
       "      <th>34</th>\n",
       "      <td>0.075472</td>\n",
       "      <td>0.075472</td>\n",
       "      <td>0.70</td>\n",
       "      <td>8.842435e-11</td>\n",
       "    </tr>\n",
       "    <tr>\n",
       "      <th>35</th>\n",
       "      <td>-0.447052</td>\n",
       "      <td>0.066390</td>\n",
       "      <td>0.75</td>\n",
       "      <td>5.134420e-01</td>\n",
       "    </tr>\n",
       "    <tr>\n",
       "      <th>36</th>\n",
       "      <td>0.058824</td>\n",
       "      <td>0.058824</td>\n",
       "      <td>0.80</td>\n",
       "      <td>5.130924e-10</td>\n",
       "    </tr>\n",
       "    <tr>\n",
       "      <th>37</th>\n",
       "      <td>3.454958</td>\n",
       "      <td>0.052459</td>\n",
       "      <td>0.85</td>\n",
       "      <td>3.402499e+00</td>\n",
       "    </tr>\n",
       "    <tr>\n",
       "      <th>38</th>\n",
       "      <td>0.047059</td>\n",
       "      <td>0.047059</td>\n",
       "      <td>0.90</td>\n",
       "      <td>2.521726e-09</td>\n",
       "    </tr>\n",
       "    <tr>\n",
       "      <th>39</th>\n",
       "      <td>-39.952449</td>\n",
       "      <td>0.042440</td>\n",
       "      <td>0.95</td>\n",
       "      <td>3.999489e+01</td>\n",
       "    </tr>\n",
       "    <tr>\n",
       "      <th>40</th>\n",
       "      <td>0.038462</td>\n",
       "      <td>0.038462</td>\n",
       "      <td>1.00</td>\n",
       "      <td>1.069248e-08</td>\n",
       "    </tr>\n",
       "  </tbody>\n",
       "</table>\n",
       "</div>"
      ],
      "text/plain": [
       "       P20(x)      f(x)     x  |f(x)-P20(x)|\n",
       "0    0.038460  0.038462 -1.00   1.927311e-06\n",
       "1  -39.952450  0.042440 -0.95   3.999489e+01\n",
       "2    0.047058  0.047059 -0.90   5.606061e-07\n",
       "3    3.454958  0.052459 -0.85   3.402498e+00\n",
       "4    0.058823  0.058824 -0.80   1.441214e-07\n",
       "5   -0.447052  0.066390 -0.75   5.134421e-01\n",
       "6    0.075472  0.075472 -0.70   3.160471e-08\n",
       "7    0.202423  0.086486 -0.65   1.159361e-01\n",
       "8    0.100000  0.100000 -0.60   5.630298e-09\n",
       "9    0.080660  0.116788 -0.55   3.612833e-02\n",
       "10   0.137931  0.137931 -0.50   7.564210e-10\n",
       "11   0.179763  0.164948 -0.45   1.481418e-02\n",
       "12   0.200000  0.200000 -0.40   6.700762e-11\n",
       "13   0.238446  0.246154 -0.35   7.707912e-03\n",
       "14   0.307692  0.307692 -0.30   2.777778e-12\n",
       "15   0.395093  0.390244 -0.25   4.849151e-03\n",
       "16   0.500000  0.500000 -0.20   3.363976e-14\n",
       "17   0.636755  0.640000 -0.15   3.244664e-03\n",
       "18   0.800000  0.800000 -0.10   3.774758e-15\n",
       "19   0.942490  0.941176 -0.05   1.313909e-03\n",
       "20   1.000000  1.000000  0.00   0.000000e+00\n",
       "21   0.942490  0.941176  0.05   1.313909e-03\n",
       "22   0.800000  0.800000  0.10   4.440892e-16\n",
       "23   0.636755  0.640000  0.15   3.244664e-03\n",
       "24   0.500000  0.500000  0.20   1.665335e-15\n",
       "25   0.395093  0.390244  0.25   4.849151e-03\n",
       "26   0.307692  0.307692  0.30   7.049916e-15\n",
       "27   0.238446  0.246154  0.35   7.707912e-03\n",
       "28   0.200000  0.200000  0.40   8.432144e-14\n",
       "29   0.179763  0.164948  0.45   1.481418e-02\n",
       "30   0.137931  0.137931  0.50   1.210643e-12\n",
       "31   0.080660  0.116788  0.55   3.612833e-02\n",
       "32   0.100000  0.100000  0.60   1.194100e-11\n",
       "33   0.202423  0.086486  0.65   1.159361e-01\n",
       "34   0.075472  0.075472  0.70   8.842435e-11\n",
       "35  -0.447052  0.066390  0.75   5.134420e-01\n",
       "36   0.058824  0.058824  0.80   5.130924e-10\n",
       "37   3.454958  0.052459  0.85   3.402499e+00\n",
       "38   0.047059  0.047059  0.90   2.521726e-09\n",
       "39 -39.952449  0.042440  0.95   3.999489e+01\n",
       "40   0.038462  0.038462  1.00   1.069248e-08"
      ]
     },
     "execution_count": 3,
     "metadata": {},
     "output_type": "execute_result"
    }
   ],
   "source": [
    "import pandas as pd\n",
    "\n",
    "x_show1 = np.linspace(-1, 1, 41) # x\n",
    "f_show1 = f(x_show1) # f(x)\n",
    "p20_show = f_p(x_show1) # P20(x) \n",
    "dif_show1 = np.abs(f_show1 - p20_show) # 二者之差\n",
    "pd.DataFrame({'x': x_show1,\n",
    "              'f(x)': f_show1,\n",
    "              'P20(x)': p20_show,\n",
    "              '|f(x)-P20(x)|': dif_show1})"
   ]
  },
  {
   "cell_type": "markdown",
   "metadata": {},
   "source": [
    "结果绘图如下："
   ]
  },
  {
   "cell_type": "code",
   "execution_count": 4,
   "metadata": {
    "scrolled": true
   },
   "outputs": [
    {
     "data": {
      "image/png": "[encoded data removed]",
      "text/plain": [
       "<matplotlib.figure.Figure at 0x19c954df9e8>"
      ]
     },
     "metadata": {},
     "output_type": "display_data"
    }
   ],
   "source": [
    "import matplotlib.pyplot as plt\n",
    "\n",
    "plt.figure()\n",
    "plt.subplot(2, 1, 1)\n",
    "plt.plot(x_show1, f_show1, label='f(x)')\n",
    "plt.plot(x_show1, p20_show, label=\"P20(x)\")\n",
    "plt.legend()\n",
    "plt.axis([-1, 1, -1, 1.5])\n",
    "plt.subplot(2, 1, 2)\n",
    "plt.plot(x_show1, dif_show1, label='|f(x)-P20(x)|')\n",
    "plt.legend(loc=9)\n",
    "plt.show()"
   ]
  },
  {
   "cell_type": "markdown",
   "metadata": {
    "collapsed": true
   },
   "source": [
    "### (b).\n",
    "算法代码如下："
   ]
  },
  {
   "cell_type": "code",
   "execution_count": 5,
   "metadata": {
    "collapsed": true
   },
   "outputs": [],
   "source": [
    "# Chebyshev多项式列表\n",
    "t = [0] * 21  # 初始化列表\n",
    "t[0:1] = [poly1d([1]), poly1d([1, 0])]\n",
    "for i in range(2, 21):\n",
    "    t[i] = polymul(poly1d([2, 0]), t[i - 1]) - t[i - 2]"
   ]
  },
  {
   "cell_type": "code",
   "execution_count": 6,
   "metadata": {
    "collapsed": true
   },
   "outputs": [],
   "source": [
    "# 进行系数计算\n",
    "Num = 20\n",
    "theta = np.array([np.pi * (k + 1 / 2) / Num for k in range(0, 20)])\n",
    "x_zeros = np.cos(theta)  # 零点的集合\n",
    "y_zeros = f(x_zeros)  # f(x)在零点的取值\n",
    "\n",
    "\n",
    "def c_k(k):  # c_k为系数\n",
    "    c = 0\n",
    "    for i in range(0, Num):\n",
    "        c += y_zeros[i] * np.cos(k * theta[i])\n",
    "    return 2 * c / Num"
   ]
  },
  {
   "cell_type": "code",
   "execution_count": 7,
   "metadata": {
    "collapsed": true
   },
   "outputs": [],
   "source": [
    "# 合成拟合多项式\n",
    "p_Chebyshev = poly1d([c_k(0) / 2])\n",
    "for i in range(1, Num):\n",
    "    p_Chebyshev += c_k(i) * t[i]\n",
    "\n",
    "\n",
    "def f_Chebyshev(x): return polyval(p_Chebyshev, x)"
   ]
  },
  {
   "cell_type": "markdown",
   "metadata": {},
   "source": [
    "结果列表如下："
   ]
  },
  {
   "cell_type": "code",
   "execution_count": 8,
   "metadata": {},
   "outputs": [
    {
     "data": {
      "text/html": [
       "<div>\n",
       "<style>\n",
       "    .dataframe thead tr:only-child th {\n",
       "        text-align: right;\n",
       "    }\n",
       "\n",
       "    .dataframe thead th {\n",
       "        text-align: left;\n",
       "    }\n",
       "\n",
       "    .dataframe tbody tr th {\n",
       "        vertical-align: top;\n",
       "    }\n",
       "</style>\n",
       "<table border=\"1\" class=\"dataframe\">\n",
       "  <thead>\n",
       "    <tr style=\"text-align: right;\">\n",
       "      <th></th>\n",
       "      <th>C(x)</th>\n",
       "      <th>f(x)</th>\n",
       "      <th>x</th>\n",
       "      <th>|f(x)-C(x)|</th>\n",
       "    </tr>\n",
       "  </thead>\n",
       "  <tbody>\n",
       "    <tr>\n",
       "      <th>0</th>\n",
       "      <td>0.038691</td>\n",
       "      <td>0.038691</td>\n",
       "      <td>9.969173e-01</td>\n",
       "      <td>1.370709e-12</td>\n",
       "    </tr>\n",
       "    <tr>\n",
       "      <th>1</th>\n",
       "      <td>0.041012</td>\n",
       "      <td>0.039623</td>\n",
       "      <td>9.846436e-01</td>\n",
       "      <td>1.389754e-03</td>\n",
       "    </tr>\n",
       "    <tr>\n",
       "      <th>2</th>\n",
       "      <td>0.040588</td>\n",
       "      <td>0.040588</td>\n",
       "      <td>9.723699e-01</td>\n",
       "      <td>7.369244e-13</td>\n",
       "    </tr>\n",
       "    <tr>\n",
       "      <th>3</th>\n",
       "      <td>0.041028</td>\n",
       "      <td>0.042601</td>\n",
       "      <td>9.481247e-01</td>\n",
       "      <td>1.573458e-03</td>\n",
       "    </tr>\n",
       "    <tr>\n",
       "      <th>4</th>\n",
       "      <td>0.044765</td>\n",
       "      <td>0.044765</td>\n",
       "      <td>9.238795e-01</td>\n",
       "      <td>1.429620e-13</td>\n",
       "    </tr>\n",
       "    <tr>\n",
       "      <th>5</th>\n",
       "      <td>0.050051</td>\n",
       "      <td>0.048251</td>\n",
       "      <td>8.882598e-01</td>\n",
       "      <td>1.800648e-03</td>\n",
       "    </tr>\n",
       "    <tr>\n",
       "      <th>6</th>\n",
       "      <td>0.052152</td>\n",
       "      <td>0.052152</td>\n",
       "      <td>8.526402e-01</td>\n",
       "      <td>5.495604e-15</td>\n",
       "    </tr>\n",
       "    <tr>\n",
       "      <th>7</th>\n",
       "      <td>0.055761</td>\n",
       "      <td>0.057931</td>\n",
       "      <td>8.065231e-01</td>\n",
       "      <td>2.169846e-03</td>\n",
       "    </tr>\n",
       "    <tr>\n",
       "      <th>8</th>\n",
       "      <td>0.064702</td>\n",
       "      <td>0.064702</td>\n",
       "      <td>7.604060e-01</td>\n",
       "      <td>1.829092e-14</td>\n",
       "    </tr>\n",
       "    <tr>\n",
       "      <th>9</th>\n",
       "      <td>0.077294</td>\n",
       "      <td>0.074499</td>\n",
       "      <td>7.049270e-01</td>\n",
       "      <td>2.795126e-03</td>\n",
       "    </tr>\n",
       "    <tr>\n",
       "      <th>10</th>\n",
       "      <td>0.086621</td>\n",
       "      <td>0.086621</td>\n",
       "      <td>6.494480e-01</td>\n",
       "      <td>3.469447e-16</td>\n",
       "    </tr>\n",
       "    <tr>\n",
       "      <th>11</th>\n",
       "      <td>0.100421</td>\n",
       "      <td>0.104339</td>\n",
       "      <td>5.859733e-01</td>\n",
       "      <td>3.918220e-03</td>\n",
       "    </tr>\n",
       "    <tr>\n",
       "      <th>12</th>\n",
       "      <td>0.127794</td>\n",
       "      <td>0.127794</td>\n",
       "      <td>5.224986e-01</td>\n",
       "      <td>4.996004e-16</td>\n",
       "    </tr>\n",
       "    <tr>\n",
       "      <th>13</th>\n",
       "      <td>0.169511</td>\n",
       "      <td>0.163373</td>\n",
       "      <td>4.525910e-01</td>\n",
       "      <td>6.138214e-03</td>\n",
       "    </tr>\n",
       "    <tr>\n",
       "      <th>14</th>\n",
       "      <td>0.214539</td>\n",
       "      <td>0.214539</td>\n",
       "      <td>3.826834e-01</td>\n",
       "      <td>1.942890e-16</td>\n",
       "    </tr>\n",
       "    <tr>\n",
       "      <th>15</th>\n",
       "      <td>0.285364</td>\n",
       "      <td>0.296508</td>\n",
       "      <td>3.080644e-01</td>\n",
       "      <td>1.114359e-02</td>\n",
       "    </tr>\n",
       "    <tr>\n",
       "      <th>16</th>\n",
       "      <td>0.423295</td>\n",
       "      <td>0.423295</td>\n",
       "      <td>2.334454e-01</td>\n",
       "      <td>5.551115e-17</td>\n",
       "    </tr>\n",
       "    <tr>\n",
       "      <th>17</th>\n",
       "      <td>0.645255</td>\n",
       "      <td>0.621880</td>\n",
       "      <td>1.559522e-01</td>\n",
       "      <td>2.337556e-02</td>\n",
       "    </tr>\n",
       "    <tr>\n",
       "      <th>18</th>\n",
       "      <td>0.866629</td>\n",
       "      <td>0.866629</td>\n",
       "      <td>7.845910e-02</td>\n",
       "      <td>2.220446e-16</td>\n",
       "    </tr>\n",
       "    <tr>\n",
       "      <th>19</th>\n",
       "      <td>0.962410</td>\n",
       "      <td>1.000000</td>\n",
       "      <td>6.245005e-17</td>\n",
       "      <td>3.759033e-02</td>\n",
       "    </tr>\n",
       "    <tr>\n",
       "      <th>20</th>\n",
       "      <td>0.866629</td>\n",
       "      <td>0.866629</td>\n",
       "      <td>-7.845910e-02</td>\n",
       "      <td>2.220446e-16</td>\n",
       "    </tr>\n",
       "    <tr>\n",
       "      <th>21</th>\n",
       "      <td>0.645255</td>\n",
       "      <td>0.621880</td>\n",
       "      <td>-1.559522e-01</td>\n",
       "      <td>2.337556e-02</td>\n",
       "    </tr>\n",
       "    <tr>\n",
       "      <th>22</th>\n",
       "      <td>0.423295</td>\n",
       "      <td>0.423295</td>\n",
       "      <td>-2.334454e-01</td>\n",
       "      <td>5.551115e-17</td>\n",
       "    </tr>\n",
       "    <tr>\n",
       "      <th>23</th>\n",
       "      <td>0.285364</td>\n",
       "      <td>0.296508</td>\n",
       "      <td>-3.080644e-01</td>\n",
       "      <td>1.114359e-02</td>\n",
       "    </tr>\n",
       "    <tr>\n",
       "      <th>24</th>\n",
       "      <td>0.214539</td>\n",
       "      <td>0.214539</td>\n",
       "      <td>-3.826834e-01</td>\n",
       "      <td>8.326673e-17</td>\n",
       "    </tr>\n",
       "    <tr>\n",
       "      <th>25</th>\n",
       "      <td>0.169511</td>\n",
       "      <td>0.163373</td>\n",
       "      <td>-4.525910e-01</td>\n",
       "      <td>6.138214e-03</td>\n",
       "    </tr>\n",
       "    <tr>\n",
       "      <th>26</th>\n",
       "      <td>0.127794</td>\n",
       "      <td>0.127794</td>\n",
       "      <td>-5.224986e-01</td>\n",
       "      <td>8.049117e-16</td>\n",
       "    </tr>\n",
       "    <tr>\n",
       "      <th>27</th>\n",
       "      <td>0.100421</td>\n",
       "      <td>0.104339</td>\n",
       "      <td>-5.859733e-01</td>\n",
       "      <td>3.918220e-03</td>\n",
       "    </tr>\n",
       "    <tr>\n",
       "      <th>28</th>\n",
       "      <td>0.086621</td>\n",
       "      <td>0.086621</td>\n",
       "      <td>-6.494480e-01</td>\n",
       "      <td>8.146261e-15</td>\n",
       "    </tr>\n",
       "    <tr>\n",
       "      <th>29</th>\n",
       "      <td>0.077294</td>\n",
       "      <td>0.074499</td>\n",
       "      <td>-7.049270e-01</td>\n",
       "      <td>2.795126e-03</td>\n",
       "    </tr>\n",
       "    <tr>\n",
       "      <th>30</th>\n",
       "      <td>0.064702</td>\n",
       "      <td>0.064702</td>\n",
       "      <td>-7.604060e-01</td>\n",
       "      <td>4.635181e-15</td>\n",
       "    </tr>\n",
       "    <tr>\n",
       "      <th>31</th>\n",
       "      <td>0.055761</td>\n",
       "      <td>0.057931</td>\n",
       "      <td>-8.065231e-01</td>\n",
       "      <td>2.169846e-03</td>\n",
       "    </tr>\n",
       "    <tr>\n",
       "      <th>32</th>\n",
       "      <td>0.052152</td>\n",
       "      <td>0.052152</td>\n",
       "      <td>-8.526402e-01</td>\n",
       "      <td>6.066675e-14</td>\n",
       "    </tr>\n",
       "    <tr>\n",
       "      <th>33</th>\n",
       "      <td>0.050051</td>\n",
       "      <td>0.048251</td>\n",
       "      <td>-8.882598e-01</td>\n",
       "      <td>1.800648e-03</td>\n",
       "    </tr>\n",
       "    <tr>\n",
       "      <th>34</th>\n",
       "      <td>0.044765</td>\n",
       "      <td>0.044765</td>\n",
       "      <td>-9.238795e-01</td>\n",
       "      <td>1.101688e-13</td>\n",
       "    </tr>\n",
       "    <tr>\n",
       "      <th>35</th>\n",
       "      <td>0.041028</td>\n",
       "      <td>0.042601</td>\n",
       "      <td>-9.481247e-01</td>\n",
       "      <td>1.573458e-03</td>\n",
       "    </tr>\n",
       "    <tr>\n",
       "      <th>36</th>\n",
       "      <td>0.040588</td>\n",
       "      <td>0.040588</td>\n",
       "      <td>-9.723699e-01</td>\n",
       "      <td>1.172659e-12</td>\n",
       "    </tr>\n",
       "    <tr>\n",
       "      <th>37</th>\n",
       "      <td>0.041012</td>\n",
       "      <td>0.039623</td>\n",
       "      <td>-9.846436e-01</td>\n",
       "      <td>1.389754e-03</td>\n",
       "    </tr>\n",
       "    <tr>\n",
       "      <th>38</th>\n",
       "      <td>0.038691</td>\n",
       "      <td>0.038691</td>\n",
       "      <td>-9.969173e-01</td>\n",
       "      <td>8.254231e-13</td>\n",
       "    </tr>\n",
       "  </tbody>\n",
       "</table>\n",
       "</div>"
      ],
      "text/plain": [
       "        C(x)      f(x)             x   |f(x)-C(x)|\n",
       "0   0.038691  0.038691  9.969173e-01  1.370709e-12\n",
       "1   0.041012  0.039623  9.846436e-01  1.389754e-03\n",
       "2   0.040588  0.040588  9.723699e-01  7.369244e-13\n",
       "3   0.041028  0.042601  9.481247e-01  1.573458e-03\n",
       "4   0.044765  0.044765  9.238795e-01  1.429620e-13\n",
       "5   0.050051  0.048251  8.882598e-01  1.800648e-03\n",
       "6   0.052152  0.052152  8.526402e-01  5.495604e-15\n",
       "7   0.055761  0.057931  8.065231e-01  2.169846e-03\n",
       "8   0.064702  0.064702  7.604060e-01  1.829092e-14\n",
       "9   0.077294  0.074499  7.049270e-01  2.795126e-03\n",
       "10  0.086621  0.086621  6.494480e-01  3.469447e-16\n",
       "11  0.100421  0.104339  5.859733e-01  3.918220e-03\n",
       "12  0.127794  0.127794  5.224986e-01  4.996004e-16\n",
       "13  0.169511  0.163373  4.525910e-01  6.138214e-03\n",
       "14  0.214539  0.214539  3.826834e-01  1.942890e-16\n",
       "15  0.285364  0.296508  3.080644e-01  1.114359e-02\n",
       "16  0.423295  0.423295  2.334454e-01  5.551115e-17\n",
       "17  0.645255  0.621880  1.559522e-01  2.337556e-02\n",
       "18  0.866629  0.866629  7.845910e-02  2.220446e-16\n",
       "19  0.962410  1.000000  6.245005e-17  3.759033e-02\n",
       "20  0.866629  0.866629 -7.845910e-02  2.220446e-16\n",
       "21  0.645255  0.621880 -1.559522e-01  2.337556e-02\n",
       "22  0.423295  0.423295 -2.334454e-01  5.551115e-17\n",
       "23  0.285364  0.296508 -3.080644e-01  1.114359e-02\n",
       "24  0.214539  0.214539 -3.826834e-01  8.326673e-17\n",
       "25  0.169511  0.163373 -4.525910e-01  6.138214e-03\n",
       "26  0.127794  0.127794 -5.224986e-01  8.049117e-16\n",
       "27  0.100421  0.104339 -5.859733e-01  3.918220e-03\n",
       "28  0.086621  0.086621 -6.494480e-01  8.146261e-15\n",
       "29  0.077294  0.074499 -7.049270e-01  2.795126e-03\n",
       "30  0.064702  0.064702 -7.604060e-01  4.635181e-15\n",
       "31  0.055761  0.057931 -8.065231e-01  2.169846e-03\n",
       "32  0.052152  0.052152 -8.526402e-01  6.066675e-14\n",
       "33  0.050051  0.048251 -8.882598e-01  1.800648e-03\n",
       "34  0.044765  0.044765 -9.238795e-01  1.101688e-13\n",
       "35  0.041028  0.042601 -9.481247e-01  1.573458e-03\n",
       "36  0.040588  0.040588 -9.723699e-01  1.172659e-12\n",
       "37  0.041012  0.039623 -9.846436e-01  1.389754e-03\n",
       "38  0.038691  0.038691 -9.969173e-01  8.254231e-13"
      ]
     },
     "execution_count": 8,
     "metadata": {},
     "output_type": "execute_result"
    }
   ],
   "source": [
    "# x_show2为Chebyshev多项式每个零点及其中点\n",
    "x_show2 = np.zeros(2 * Num - 1)\n",
    "for i in range(2 * Num - 1):\n",
    "    if i % 2 == 0:\n",
    "        x_show2[i] = x_zeros[i // 2]\n",
    "    else:\n",
    "        x_show2[i] = (x_zeros[i // 2] + x_zeros[i // 2 + 1]) / 2\n",
    "f_show2 = f(x_show2)\n",
    "Chebyshev_show2 = f_Chebyshev(x_show2)\n",
    "diff_show2 = np.abs(Chebyshev_show2 - f_show2)\n",
    "\n",
    "pd.DataFrame({'x': x_show2,\n",
    "              'f(x)': f_show2,\n",
    "              'C(x)': Chebyshev_show2 ,\n",
    "              '|f(x)-C(x)|': diff_show2})"
   ]
  },
  {
   "cell_type": "markdown",
   "metadata": {},
   "source": [
    "结果绘图如下："
   ]
  },
  {
   "cell_type": "code",
   "execution_count": 9,
   "metadata": {},
   "outputs": [
    {
     "data": {
      "image/png": "[encoded data removed]",
      "text/plain": [
       "<matplotlib.figure.Figure at 0x19c961b89e8>"
      ]
     },
     "metadata": {},
     "output_type": "display_data"
    }
   ],
   "source": [
    "plt.figure()\n",
    "plt.subplot(2, 1, 1)\n",
    "plt.plot(x_show2, f_show2, label='f(x)')\n",
    "plt.plot(x_show2, Chebyshev_show2, label=\"C(x)\")\n",
    "plt.legend()\n",
    "plt.axis([-1, 1, 0, 1])\n",
    "plt.subplot(2, 1, 2)\n",
    "plt.plot(x_show2, diff_show2, label='|f(x)-C(x)|')\n",
    "plt.legend()\n",
    "plt.show()"
   ]
  },
  {
   "cell_type": "markdown",
   "metadata": {},
   "source": [
    "相比之下，Chebyshev插值比普通多项式插值没有了龙格现象，与原函数差别也比较小。"
   ]
  },
  {
   "cell_type": "markdown",
   "metadata": {},
   "source": [
    "### （c）\n",
    "\n",
    "鉴于三次样条函数表达有点复杂，这里先写一个三次样条曲线插值的类，边界条件采用自然边界条件，即二阶导在边界确定且为0："
   ]
  },
  {
   "cell_type": "code",
   "execution_count": 10,
   "metadata": {
    "collapsed": true
   },
   "outputs": [],
   "source": [
    "class spline3:\n",
    "    # 一切符号表示与刘川老师讲义的相符\n",
    "    n = 0  # 这里n是点的指标最大值，实际点数为n+1个\n",
    "    xs = None  # 自变量列表，xs[0]到xs[n]\n",
    "    ys = None  # 因变量列表\n",
    "    M = None  # 矩\n",
    "    h = None  # h[j+1]=x[j+1]-x[j]\n",
    "    A = None  # 系数A\n",
    "    B = None  # 系数B\n",
    "    #  miu[j]M[j-1]+2M[j]+lambda[j]M[j+1]=d[j],j=1,2,...,n-1\n",
    "    #  M[0]=0,M[n]=0,lambda[0]=0,miu[n]=0\n",
    "    mat = None  # 解M时用到的矩阵\n",
    "    d = None  # mat.M=d\n",
    "\n",
    "    # 初始化函数\n",
    "    def __init__(self, x, y):\n",
    "        if x.shape != y.shape:\n",
    "            print('error in dims')\n",
    "        else:\n",
    "            # 初始化常数\n",
    "            self.xs = x\n",
    "            self.ys = y\n",
    "            self.n = self.xs.shape[0] - 1\n",
    "            self.h = np.zeros(self.n + 1, dtype=float)\n",
    "            self.M = np.zeros(self.n + 1, dtype=float)\n",
    "            self.A = np.zeros(self.n + 1, dtype=float)\n",
    "            self.B = np.zeros(self.n + 1, dtype=float)\n",
    "            self.d = np.zeros(self.n + 1, dtype=float)\n",
    "            self.mat = np.zeros([self.n + 1, self.n + 1], dtype=float)\n",
    "            # 进行各项常数的计算，如函数名所示\n",
    "            self.calc_h()\n",
    "            self.calc_mat()\n",
    "            self.calc_d()\n",
    "            self.calc_M()\n",
    "            self.calc_AB()\n",
    "\n",
    "    def calc_h(self):\n",
    "        for i in range(0, self.n):\n",
    "            self.h[i + 1] = self.xs[i + 1] - self.xs[i]\n",
    "            # h[0]为空值不用，有用的范围为h[1]到h[n]\n",
    "\n",
    "    def calc_mat(self):\n",
    "        self.mat[0, 0] = 2\n",
    "        self.mat[0, 1] = 0\n",
    "        self.mat[self.n, self.n - 1] = 0\n",
    "        self.mat[self.n, self.n] = 2\n",
    "        for i in range(1, self.n):\n",
    "            self.mat[i, i - 1] = self.h[i] / (self.h[i] + self.h[i + 1])  # miu[i]\n",
    "            self.mat[i, i] = 2\n",
    "            self.mat[i, i + 1] = self.h[i + 1] / (self.h[i] + self.h[i + 1])  # lambda[i]\n",
    "\n",
    "    def calc_d(self):\n",
    "        self.d[0] = 0\n",
    "        self.d[self.n] = 0\n",
    "        for i in range(1, self.n):\n",
    "            self.d[i] = 6 / (self.h[i] + self.h[i + 1]) * (\n",
    "                (self.ys[i + 1] - self.ys[i]) / self.h[i + 1] - (self.ys[i] - self.ys[i - 1]) / self.h[i])\n",
    "\n",
    "    def calc_M(self):\n",
    "        self.M = np.linalg.solve(self.mat, self.d)\n",
    "\n",
    "    def calc_AB(self):\n",
    "        for i in range(0, self.n):\n",
    "            self.B[i] = self.ys[i] - self.M[i] * self.h[i + 1] ** 2 / 6\n",
    "            self.A[i] = (self.ys[i + 1] - self.ys[i]) / self.h[i + 1] - self.h[i + 1] * (self.M[i + 1] - self.M[i]) / 6\n",
    "\n",
    "    # 计算样条函数在一点的函数值\n",
    "    def eval(self, x):\n",
    "        if x < self.xs[0] or x > self.xs[self.n]:\n",
    "            print(x, 'is not in [', self.xs[0], ',', self.xs[self.n], ']')\n",
    "        else:\n",
    "            for i in range(0, self.n):\n",
    "                if self.xs[i] <= x <= self.xs[i + 1]:\n",
    "                    return self.M[i] * (self.xs[i + 1] - x) ** 3 / 6 / self.h[i + 1] + self.M[i + 1] * (x - self.xs[\n",
    "                        i]) ** 3 / 6 / self.h[i + 1] + self.A[i] * (x - self.xs[i]) + self.B[i]\n"
   ]
  },
  {
   "cell_type": "markdown",
   "metadata": {},
   "source": [
    "进行样条函数插值："
   ]
  },
  {
   "cell_type": "code",
   "execution_count": 11,
   "metadata": {
    "collapsed": true
   },
   "outputs": [],
   "source": [
    "#x,y值的列表\n",
    "xs = np.linspace(-1, 1, 21) # x\n",
    "ys = f(xs) # y\n",
    "sp = spline3(xs, ys)\n",
    "x_show3 = np.linspace(-1, 1, 41)\n",
    "f_show3 = f(x_show3)  # f (x)\n",
    "sp_show = np.array([sp.eval(i) for i in x_show3])  # SP(x)\n",
    "dif_show3 = np.abs(f_show3 - sp_show)  # 二者之差"
   ]
  },
  {
   "cell_type": "markdown",
   "metadata": {},
   "source": [
    "列表如下："
   ]
  },
  {
   "cell_type": "code",
   "execution_count": 12,
   "metadata": {},
   "outputs": [
    {
     "data": {
      "text/html": [
       "<div>\n",
       "<style>\n",
       "    .dataframe thead tr:only-child th {\n",
       "        text-align: right;\n",
       "    }\n",
       "\n",
       "    .dataframe thead th {\n",
       "        text-align: left;\n",
       "    }\n",
       "\n",
       "    .dataframe tbody tr th {\n",
       "        vertical-align: top;\n",
       "    }\n",
       "</style>\n",
       "<table border=\"1\" class=\"dataframe\">\n",
       "  <thead>\n",
       "    <tr style=\"text-align: right;\">\n",
       "      <th></th>\n",
       "      <th>SP(x)</th>\n",
       "      <th>f(x)</th>\n",
       "      <th>x</th>\n",
       "      <th>|f(x)-SP(x)|</th>\n",
       "    </tr>\n",
       "  </thead>\n",
       "  <tbody>\n",
       "    <tr>\n",
       "      <th>0</th>\n",
       "      <td>0.038462</td>\n",
       "      <td>0.038462</td>\n",
       "      <td>-1.00</td>\n",
       "      <td>0.000000e+00</td>\n",
       "    </tr>\n",
       "    <tr>\n",
       "      <th>1</th>\n",
       "      <td>0.042534</td>\n",
       "      <td>0.042440</td>\n",
       "      <td>-0.95</td>\n",
       "      <td>9.389813e-05</td>\n",
       "    </tr>\n",
       "    <tr>\n",
       "      <th>2</th>\n",
       "      <td>0.047059</td>\n",
       "      <td>0.047059</td>\n",
       "      <td>-0.90</td>\n",
       "      <td>0.000000e+00</td>\n",
       "    </tr>\n",
       "    <tr>\n",
       "      <th>3</th>\n",
       "      <td>0.052431</td>\n",
       "      <td>0.052459</td>\n",
       "      <td>-0.85</td>\n",
       "      <td>2.772903e-05</td>\n",
       "    </tr>\n",
       "    <tr>\n",
       "      <th>4</th>\n",
       "      <td>0.058824</td>\n",
       "      <td>0.058824</td>\n",
       "      <td>-0.80</td>\n",
       "      <td>0.000000e+00</td>\n",
       "    </tr>\n",
       "    <tr>\n",
       "      <th>5</th>\n",
       "      <td>0.066394</td>\n",
       "      <td>0.066390</td>\n",
       "      <td>-0.75</td>\n",
       "      <td>4.011889e-06</td>\n",
       "    </tr>\n",
       "    <tr>\n",
       "      <th>6</th>\n",
       "      <td>0.075472</td>\n",
       "      <td>0.075472</td>\n",
       "      <td>-0.70</td>\n",
       "      <td>0.000000e+00</td>\n",
       "    </tr>\n",
       "    <tr>\n",
       "      <th>7</th>\n",
       "      <td>0.086474</td>\n",
       "      <td>0.086486</td>\n",
       "      <td>-0.65</td>\n",
       "      <td>1.285531e-05</td>\n",
       "    </tr>\n",
       "    <tr>\n",
       "      <th>8</th>\n",
       "      <td>0.100000</td>\n",
       "      <td>0.100000</td>\n",
       "      <td>-0.60</td>\n",
       "      <td>0.000000e+00</td>\n",
       "    </tr>\n",
       "    <tr>\n",
       "      <th>9</th>\n",
       "      <td>0.116787</td>\n",
       "      <td>0.116788</td>\n",
       "      <td>-0.55</td>\n",
       "      <td>1.446703e-06</td>\n",
       "    </tr>\n",
       "    <tr>\n",
       "      <th>10</th>\n",
       "      <td>0.137931</td>\n",
       "      <td>0.137931</td>\n",
       "      <td>-0.50</td>\n",
       "      <td>0.000000e+00</td>\n",
       "    </tr>\n",
       "    <tr>\n",
       "      <th>11</th>\n",
       "      <td>0.164865</td>\n",
       "      <td>0.164948</td>\n",
       "      <td>-0.45</td>\n",
       "      <td>8.389624e-05</td>\n",
       "    </tr>\n",
       "    <tr>\n",
       "      <th>12</th>\n",
       "      <td>0.200000</td>\n",
       "      <td>0.200000</td>\n",
       "      <td>-0.40</td>\n",
       "      <td>0.000000e+00</td>\n",
       "    </tr>\n",
       "    <tr>\n",
       "      <th>13</th>\n",
       "      <td>0.246268</td>\n",
       "      <td>0.246154</td>\n",
       "      <td>-0.35</td>\n",
       "      <td>1.143125e-04</td>\n",
       "    </tr>\n",
       "    <tr>\n",
       "      <th>14</th>\n",
       "      <td>0.307692</td>\n",
       "      <td>0.307692</td>\n",
       "      <td>-0.30</td>\n",
       "      <td>0.000000e+00</td>\n",
       "    </tr>\n",
       "    <tr>\n",
       "      <th>15</th>\n",
       "      <td>0.389420</td>\n",
       "      <td>0.390244</td>\n",
       "      <td>-0.25</td>\n",
       "      <td>8.243306e-04</td>\n",
       "    </tr>\n",
       "    <tr>\n",
       "      <th>16</th>\n",
       "      <td>0.500000</td>\n",
       "      <td>0.500000</td>\n",
       "      <td>-0.20</td>\n",
       "      <td>0.000000e+00</td>\n",
       "    </tr>\n",
       "    <tr>\n",
       "      <th>17</th>\n",
       "      <td>0.643169</td>\n",
       "      <td>0.640000</td>\n",
       "      <td>-0.15</td>\n",
       "      <td>3.168939e-03</td>\n",
       "    </tr>\n",
       "    <tr>\n",
       "      <th>18</th>\n",
       "      <td>0.800000</td>\n",
       "      <td>0.800000</td>\n",
       "      <td>-0.10</td>\n",
       "      <td>0.000000e+00</td>\n",
       "    </tr>\n",
       "    <tr>\n",
       "      <th>19</th>\n",
       "      <td>0.938866</td>\n",
       "      <td>0.941176</td>\n",
       "      <td>-0.05</td>\n",
       "      <td>2.310258e-03</td>\n",
       "    </tr>\n",
       "    <tr>\n",
       "      <th>20</th>\n",
       "      <td>1.000000</td>\n",
       "      <td>1.000000</td>\n",
       "      <td>0.00</td>\n",
       "      <td>0.000000e+00</td>\n",
       "    </tr>\n",
       "    <tr>\n",
       "      <th>21</th>\n",
       "      <td>0.938866</td>\n",
       "      <td>0.941176</td>\n",
       "      <td>0.05</td>\n",
       "      <td>2.310258e-03</td>\n",
       "    </tr>\n",
       "    <tr>\n",
       "      <th>22</th>\n",
       "      <td>0.800000</td>\n",
       "      <td>0.800000</td>\n",
       "      <td>0.10</td>\n",
       "      <td>1.110223e-16</td>\n",
       "    </tr>\n",
       "    <tr>\n",
       "      <th>23</th>\n",
       "      <td>0.643169</td>\n",
       "      <td>0.640000</td>\n",
       "      <td>0.15</td>\n",
       "      <td>3.168939e-03</td>\n",
       "    </tr>\n",
       "    <tr>\n",
       "      <th>24</th>\n",
       "      <td>0.500000</td>\n",
       "      <td>0.500000</td>\n",
       "      <td>0.20</td>\n",
       "      <td>5.551115e-17</td>\n",
       "    </tr>\n",
       "    <tr>\n",
       "      <th>25</th>\n",
       "      <td>0.389420</td>\n",
       "      <td>0.390244</td>\n",
       "      <td>0.25</td>\n",
       "      <td>8.243306e-04</td>\n",
       "    </tr>\n",
       "    <tr>\n",
       "      <th>26</th>\n",
       "      <td>0.307692</td>\n",
       "      <td>0.307692</td>\n",
       "      <td>0.30</td>\n",
       "      <td>5.551115e-17</td>\n",
       "    </tr>\n",
       "    <tr>\n",
       "      <th>27</th>\n",
       "      <td>0.246268</td>\n",
       "      <td>0.246154</td>\n",
       "      <td>0.35</td>\n",
       "      <td>1.143125e-04</td>\n",
       "    </tr>\n",
       "    <tr>\n",
       "      <th>28</th>\n",
       "      <td>0.200000</td>\n",
       "      <td>0.200000</td>\n",
       "      <td>0.40</td>\n",
       "      <td>2.775558e-17</td>\n",
       "    </tr>\n",
       "    <tr>\n",
       "      <th>29</th>\n",
       "      <td>0.164865</td>\n",
       "      <td>0.164948</td>\n",
       "      <td>0.45</td>\n",
       "      <td>8.389624e-05</td>\n",
       "    </tr>\n",
       "    <tr>\n",
       "      <th>30</th>\n",
       "      <td>0.137931</td>\n",
       "      <td>0.137931</td>\n",
       "      <td>0.50</td>\n",
       "      <td>0.000000e+00</td>\n",
       "    </tr>\n",
       "    <tr>\n",
       "      <th>31</th>\n",
       "      <td>0.116787</td>\n",
       "      <td>0.116788</td>\n",
       "      <td>0.55</td>\n",
       "      <td>1.446703e-06</td>\n",
       "    </tr>\n",
       "    <tr>\n",
       "      <th>32</th>\n",
       "      <td>0.100000</td>\n",
       "      <td>0.100000</td>\n",
       "      <td>0.60</td>\n",
       "      <td>0.000000e+00</td>\n",
       "    </tr>\n",
       "    <tr>\n",
       "      <th>33</th>\n",
       "      <td>0.086474</td>\n",
       "      <td>0.086486</td>\n",
       "      <td>0.65</td>\n",
       "      <td>1.285531e-05</td>\n",
       "    </tr>\n",
       "    <tr>\n",
       "      <th>34</th>\n",
       "      <td>0.075472</td>\n",
       "      <td>0.075472</td>\n",
       "      <td>0.70</td>\n",
       "      <td>0.000000e+00</td>\n",
       "    </tr>\n",
       "    <tr>\n",
       "      <th>35</th>\n",
       "      <td>0.066394</td>\n",
       "      <td>0.066390</td>\n",
       "      <td>0.75</td>\n",
       "      <td>4.011889e-06</td>\n",
       "    </tr>\n",
       "    <tr>\n",
       "      <th>36</th>\n",
       "      <td>0.058824</td>\n",
       "      <td>0.058824</td>\n",
       "      <td>0.80</td>\n",
       "      <td>6.938894e-18</td>\n",
       "    </tr>\n",
       "    <tr>\n",
       "      <th>37</th>\n",
       "      <td>0.052431</td>\n",
       "      <td>0.052459</td>\n",
       "      <td>0.85</td>\n",
       "      <td>2.772903e-05</td>\n",
       "    </tr>\n",
       "    <tr>\n",
       "      <th>38</th>\n",
       "      <td>0.047059</td>\n",
       "      <td>0.047059</td>\n",
       "      <td>0.90</td>\n",
       "      <td>0.000000e+00</td>\n",
       "    </tr>\n",
       "    <tr>\n",
       "      <th>39</th>\n",
       "      <td>0.042534</td>\n",
       "      <td>0.042440</td>\n",
       "      <td>0.95</td>\n",
       "      <td>9.389813e-05</td>\n",
       "    </tr>\n",
       "    <tr>\n",
       "      <th>40</th>\n",
       "      <td>0.038462</td>\n",
       "      <td>0.038462</td>\n",
       "      <td>1.00</td>\n",
       "      <td>0.000000e+00</td>\n",
       "    </tr>\n",
       "  </tbody>\n",
       "</table>\n",
       "</div>"
      ],
      "text/plain": [
       "       SP(x)      f(x)     x  |f(x)-SP(x)|\n",
       "0   0.038462  0.038462 -1.00  0.000000e+00\n",
       "1   0.042534  0.042440 -0.95  9.389813e-05\n",
       "2   0.047059  0.047059 -0.90  0.000000e+00\n",
       "3   0.052431  0.052459 -0.85  2.772903e-05\n",
       "4   0.058824  0.058824 -0.80  0.000000e+00\n",
       "5   0.066394  0.066390 -0.75  4.011889e-06\n",
       "6   0.075472  0.075472 -0.70  0.000000e+00\n",
       "7   0.086474  0.086486 -0.65  1.285531e-05\n",
       "8   0.100000  0.100000 -0.60  0.000000e+00\n",
       "9   0.116787  0.116788 -0.55  1.446703e-06\n",
       "10  0.137931  0.137931 -0.50  0.000000e+00\n",
       "11  0.164865  0.164948 -0.45  8.389624e-05\n",
       "12  0.200000  0.200000 -0.40  0.000000e+00\n",
       "13  0.246268  0.246154 -0.35  1.143125e-04\n",
       "14  0.307692  0.307692 -0.30  0.000000e+00\n",
       "15  0.389420  0.390244 -0.25  8.243306e-04\n",
       "16  0.500000  0.500000 -0.20  0.000000e+00\n",
       "17  0.643169  0.640000 -0.15  3.168939e-03\n",
       "18  0.800000  0.800000 -0.10  0.000000e+00\n",
       "19  0.938866  0.941176 -0.05  2.310258e-03\n",
       "20  1.000000  1.000000  0.00  0.000000e+00\n",
       "21  0.938866  0.941176  0.05  2.310258e-03\n",
       "22  0.800000  0.800000  0.10  1.110223e-16\n",
       "23  0.643169  0.640000  0.15  3.168939e-03\n",
       "24  0.500000  0.500000  0.20  5.551115e-17\n",
       "25  0.389420  0.390244  0.25  8.243306e-04\n",
       "26  0.307692  0.307692  0.30  5.551115e-17\n",
       "27  0.246268  0.246154  0.35  1.143125e-04\n",
       "28  0.200000  0.200000  0.40  2.775558e-17\n",
       "29  0.164865  0.164948  0.45  8.389624e-05\n",
       "30  0.137931  0.137931  0.50  0.000000e+00\n",
       "31  0.116787  0.116788  0.55  1.446703e-06\n",
       "32  0.100000  0.100000  0.60  0.000000e+00\n",
       "33  0.086474  0.086486  0.65  1.285531e-05\n",
       "34  0.075472  0.075472  0.70  0.000000e+00\n",
       "35  0.066394  0.066390  0.75  4.011889e-06\n",
       "36  0.058824  0.058824  0.80  6.938894e-18\n",
       "37  0.052431  0.052459  0.85  2.772903e-05\n",
       "38  0.047059  0.047059  0.90  0.000000e+00\n",
       "39  0.042534  0.042440  0.95  9.389813e-05\n",
       "40  0.038462  0.038462  1.00  0.000000e+00"
      ]
     },
     "execution_count": 12,
     "metadata": {},
     "output_type": "execute_result"
    }
   ],
   "source": [
    "pd.DataFrame({'x': x_show3,\n",
    "              'f(x)': f_show3,\n",
    "              'SP(x)': sp_show ,\n",
    "              '|f(x)-SP(x)|': dif_show3})"
   ]
  },
  {
   "cell_type": "markdown",
   "metadata": {},
   "source": [
    "结果绘图如下："
   ]
  },
  {
   "cell_type": "code",
   "execution_count": 13,
   "metadata": {},
   "outputs": [
    {
     "data": {
      "image/png": "[encoded data removed]",
      "text/plain": [
       "<matplotlib.figure.Figure at 0x19c961b8be0>"
      ]
     },
     "metadata": {},
     "output_type": "display_data"
    }
   ],
   "source": [
    "plt.figure()\n",
    "plt.subplot(2, 1, 1)\n",
    "plt.plot(x_show3, f_show3, label='f(x)')\n",
    "plt.plot(x_show3, sp_show, label=\"SP(x)\")\n",
    "plt.legend()\n",
    "plt.axis([-1, 1, 0, 1])\n",
    "plt.subplot(2, 1, 2)\n",
    "plt.plot(x_show3, dif_show3, label='|f(x)-SP(x)|')\n",
    "plt.legend(loc=1)\n",
    "plt.show()"
   ]
  },
  {
   "cell_type": "markdown",
   "metadata": {},
   "source": [
    "相比之下，三次样条函数误差最小，和原函数的绘图可以看到二者几乎是完全重叠的。"
   ]
  },
  {
   "cell_type": "markdown",
   "metadata": {},
   "source": [
    "## 2. 样条函数在计算机绘图中的运用"
   ]
  },
  {
   "cell_type": "markdown",
   "metadata": {},
   "source": [
    "### （a）\n",
    "计算与列表如下"
   ]
  },
  {
   "cell_type": "code",
   "execution_count": 14,
   "metadata": {},
   "outputs": [
    {
     "data": {
      "text/html": [
       "<div>\n",
       "<style>\n",
       "    .dataframe thead tr:only-child th {\n",
       "        text-align: right;\n",
       "    }\n",
       "\n",
       "    .dataframe thead th {\n",
       "        text-align: left;\n",
       "    }\n",
       "\n",
       "    .dataframe tbody tr th {\n",
       "        vertical-align: top;\n",
       "    }\n",
       "</style>\n",
       "<table border=\"1\" class=\"dataframe\">\n",
       "  <thead>\n",
       "    <tr style=\"text-align: right;\">\n",
       "      <th></th>\n",
       "      <th>phi</th>\n",
       "      <th>t</th>\n",
       "      <th>xt</th>\n",
       "      <th>yt</th>\n",
       "    </tr>\n",
       "  </thead>\n",
       "  <tbody>\n",
       "    <tr>\n",
       "      <th>0</th>\n",
       "      <td>0.000000</td>\n",
       "      <td>0</td>\n",
       "      <td>0.000000e+00</td>\n",
       "      <td>0.000000e+00</td>\n",
       "    </tr>\n",
       "    <tr>\n",
       "      <th>1</th>\n",
       "      <td>0.785398</td>\n",
       "      <td>1</td>\n",
       "      <td>2.071068e-01</td>\n",
       "      <td>2.071068e-01</td>\n",
       "    </tr>\n",
       "    <tr>\n",
       "      <th>2</th>\n",
       "      <td>1.570796</td>\n",
       "      <td>2</td>\n",
       "      <td>6.123234e-17</td>\n",
       "      <td>1.000000e+00</td>\n",
       "    </tr>\n",
       "    <tr>\n",
       "      <th>3</th>\n",
       "      <td>2.356194</td>\n",
       "      <td>3</td>\n",
       "      <td>-1.207107e+00</td>\n",
       "      <td>1.207107e+00</td>\n",
       "    </tr>\n",
       "    <tr>\n",
       "      <th>4</th>\n",
       "      <td>3.141593</td>\n",
       "      <td>4</td>\n",
       "      <td>-2.000000e+00</td>\n",
       "      <td>2.449294e-16</td>\n",
       "    </tr>\n",
       "    <tr>\n",
       "      <th>5</th>\n",
       "      <td>3.926991</td>\n",
       "      <td>5</td>\n",
       "      <td>-1.207107e+00</td>\n",
       "      <td>-1.207107e+00</td>\n",
       "    </tr>\n",
       "    <tr>\n",
       "      <th>6</th>\n",
       "      <td>4.712389</td>\n",
       "      <td>6</td>\n",
       "      <td>-1.836970e-16</td>\n",
       "      <td>-1.000000e+00</td>\n",
       "    </tr>\n",
       "    <tr>\n",
       "      <th>7</th>\n",
       "      <td>5.497787</td>\n",
       "      <td>7</td>\n",
       "      <td>2.071068e-01</td>\n",
       "      <td>-2.071068e-01</td>\n",
       "    </tr>\n",
       "    <tr>\n",
       "      <th>8</th>\n",
       "      <td>6.283185</td>\n",
       "      <td>8</td>\n",
       "      <td>0.000000e+00</td>\n",
       "      <td>-0.000000e+00</td>\n",
       "    </tr>\n",
       "  </tbody>\n",
       "</table>\n",
       "</div>"
      ],
      "text/plain": [
       "        phi  t            xt            yt\n",
       "0  0.000000  0  0.000000e+00  0.000000e+00\n",
       "1  0.785398  1  2.071068e-01  2.071068e-01\n",
       "2  1.570796  2  6.123234e-17  1.000000e+00\n",
       "3  2.356194  3 -1.207107e+00  1.207107e+00\n",
       "4  3.141593  4 -2.000000e+00  2.449294e-16\n",
       "5  3.926991  5 -1.207107e+00 -1.207107e+00\n",
       "6  4.712389  6 -1.836970e-16 -1.000000e+00\n",
       "7  5.497787  7  2.071068e-01 -2.071068e-01\n",
       "8  6.283185  8  0.000000e+00 -0.000000e+00"
      ]
     },
     "execution_count": 14,
     "metadata": {},
     "output_type": "execute_result"
    }
   ],
   "source": [
    "# 定义函数\n",
    "def r(phi): return 1 - np.cos(phi)\n",
    "\n",
    "\n",
    "# 一切变量命名与题目相符 \n",
    "t = np.arange(0, 9)  # t\n",
    "phi = t * np.pi / 4  # phi\n",
    "xt = r(phi) * np.cos(phi)  # xt\n",
    "yt = r(phi) * np.sin(phi)  # yt\n",
    "\n",
    "#列表\n",
    "pd.DataFrame({'t': t,\n",
    "              'phi': phi,\n",
    "              'xt': xt,\n",
    "              'yt': yt})"
   ]
  },
  {
   "cell_type": "markdown",
   "metadata": {},
   "source": [
    "### (b)\n",
    "进行插值："
   ]
  },
  {
   "cell_type": "code",
   "execution_count": 15,
   "metadata": {
    "collapsed": true
   },
   "outputs": [],
   "source": [
    "spx = spline3(phi, xt)\n",
    "spy = spline3(phi, yt)"
   ]
  },
  {
   "cell_type": "markdown",
   "metadata": {},
   "source": [
    "### (c)\n",
    "绘图："
   ]
  },
  {
   "cell_type": "code",
   "execution_count": 16,
   "metadata": {},
   "outputs": [
    {
     "data": {
      "image/png": "[encoded data removed]",
      "text/plain": [
       "<matplotlib.figure.Figure at 0x19c96377b38>"
      ]
     },
     "metadata": {},
     "output_type": "display_data"
    }
   ],
   "source": [
    "phis = np.linspace(0, 2 * np.pi, 100)\n",
    "xts = r(phis) * np.cos(phis)\n",
    "yts = r(phis) * np.sin(phis)\n",
    "sxts = np.array([spx.eval(i) for i in phis])\n",
    "syts = np.array([spy.eval(i) for i in phis])\n",
    "\n",
    "plt.figure()\n",
    "plt.subplot(1, 1, 1)\n",
    "plt.plot(xts, yts, label='r(phi)')\n",
    "plt.plot(sxts, syts, label='(Sx(phi),Sy(phi))')\n",
    "plt.scatter(xt, yt, s=100, c='r')\n",
    "plt.axes().set_aspect(0.9)\n",
    "plt.legend()\n",
    "plt.show()\n"
   ]
  },
  {
   "cell_type": "markdown",
   "metadata": {},
   "source": [
    "### (d)\n",
    "由于三次样条函数对变量的一阶导连续，即$\\frac{\\partial S\\Delta(X;t)}{\\partial t}$与$\\frac{\\partial S\\Delta(Y;t)}{\\partial t}$连续，故\n",
    "$\\frac{\\partial S\\Delta(Y;t)}{\\partial S\\Delta(X;t)}=\\frac{\\partial S\\Delta(Y;t)}{\\partial t}/\\frac{\\partial S\\Delta(X;t)}{\\partial t}$连续，从而绘制出来的曲线光滑"
   ]
  },
  {
   "cell_type": "markdown",
   "metadata": {},
   "source": [
    "## 3. 含有zeta 函数的方程求解"
   ]
  },
  {
   "cell_type": "markdown",
   "metadata": {},
   "source": [
    "### (a)."
   ]
  },
  {
   "cell_type": "markdown",
   "metadata": {
    "collapsed": true
   },
   "source": [
    "当$l=m=0$时，$y_{00}=1/\\sqrt{4\\pi}$， $z_{00}(1;q^2)=y_{00}\\sum_{n}\\frac{e^{q^2-|n|^2}}{|n|^2-q^2}-\\pi+\\frac{\\pi}{2}\\dot \\int_0^1dtt^{-3/2}(e^{tq^2}-1)+\\pi y_{00}\\sum_{n\\ne 0}\\int_0^1dtt^{-3/2}e^{tq^2}e^{-(\\pi^2/t)|n|^2}$"
   ]
  },
  {
   "cell_type": "markdown",
   "metadata": {},
   "source": [
    "设当$|n|^2=n_0$时，$n=(n_x,n_y,n_z)$的数目（简并度）为$g(n_0)$，有$g(n_0)\\simeq4\\pi n_0$，更精确实现如下"
   ]
  },
  {
   "cell_type": "code",
   "execution_count": 17,
   "metadata": {
    "collapsed": true
   },
   "outputs": [],
   "source": [
    "from numba import jit\n",
    "\n",
    "@jit\n",
    "def g(n):\n",
    "    l = 0\n",
    "    for i in range(-n, n + 1):\n",
    "        for j in range(-n, n + 1):\n",
    "            for k in range(-n, n + 1):\n",
    "                if i ^ 2 + j ^ 2 + k ^ 2 == n:\n",
    "                    l += 1\n",
    "    return l\n"
   ]
  },
  {
   "cell_type": "markdown",
   "metadata": {},
   "source": [
    "从表达式易知，当$q^2$变大时，第三项与第四项的积分是变大的，从而当$q^2$很小时，影响$z_{00}(1;q^2)$数量级变化的主要为第一项求和中n=(0,0,0)的一项：\n",
    "\n",
    "$y_{00}\\frac{e^{q^2}}{-q^2}\\sim -y_{00}{(q^2)^{-1}}$"
   ]
  },
  {
   "cell_type": "markdown",
   "metadata": {},
   "source": [
    "设精确度要求为$\\epsilon$，当$q^2$很小时，设第一项求和要求达到 $|n|=n_0$，至少有$y_{00}\\cdot g(n_0^2)\\cdot\\frac{e^{q^2-n_0^2}}{n_0^2-q^2}\\sim\n",
    "y_{00}\\cdot g(n_0)\\cdot\\frac{e^{-n_0^2}}{n_0^2}=\\epsilon\\cdot y_{00}{(q^2)^{-1}}$"
   ]
  },
  {
   "cell_type": "markdown",
   "metadata": {},
   "source": [
    "故$g(n_0^2)\\frac{e^{-n_0^2}}{n_0^2}=\\epsilon\\cdot (q^2)^{-1}$"
   ]
  },
  {
   "cell_type": "markdown",
   "metadata": {},
   "source": [
    "当$n_0^2$变化时，$f_1(n_0^2)=g(n_0^2)\\frac{e^{-n_0^2}}{n_0^2}$变化如下："
   ]
  },
  {
   "cell_type": "code",
   "execution_count": 18,
   "metadata": {},
   "outputs": [
    {
     "data": {
      "image/png": "[encoded data removed]",
      "text/plain": [
       "<matplotlib.figure.Figure at 0x19c954f6128>"
      ]
     },
     "metadata": {},
     "output_type": "display_data"
    }
   ],
   "source": [
    "def f1(n): return g(n) * np.exp(-n) / n\n",
    "\n",
    "\n",
    "cl1 = range(1, 50)\n",
    "da1 = list(map(f1, cl1))\n",
    "yranges = [10 ** i for i in range(-18, 1)]\n",
    "\n",
    "fig = plt.figure()\n",
    "ax = fig.add_subplot(1, 1, 1)\n",
    "plt.scatter(cl1, da1)\n",
    "ax.set_yscale('log')\n",
    "ax.set_xticks(range(0, 50, 5))\n",
    "ax.set_xticks(cl1, minor=True)\n",
    "ax.set_yticks(yranges)\n",
    "ax.grid(which='minor', alpha=0.2)\n",
    "ax.grid(which='major', alpha=0.5)\n",
    "plt.show()\n"
   ]
  },
  {
   "cell_type": "markdown",
   "metadata": {},
   "source": [
    "由此可见，当$q^2\\sim10^{-3}$时，n的模方取10即可满足6位精度，n的模方取25即可满足12位精度"
   ]
  },
  {
   "cell_type": "markdown",
   "metadata": {},
   "source": [
    "当$q^2\\sim10^{-7}$时，n的模方取0即可满足6位精度，n的模方取15即可满足12位精度"
   ]
  },
  {
   "cell_type": "markdown",
   "metadata": {},
   "source": [
    "当$q^2<10^{-13}$时，n的模方取0即可满足12位精度"
   ]
  },
  {
   "cell_type": "markdown",
   "metadata": {},
   "source": [
    "由于$f_1(n_0^2)\\simeq4\\pi e^{-n_0^2}$，故当$10^{-3}>q^2>10^{-7}$时，n的模方取$-\\ln(\\epsilon)+\\ln(q^2)+\\ln(4\\pi)$即可满足$\\epsilon$的精度"
   ]
  },
  {
   "cell_type": "markdown",
   "metadata": {},
   "source": [
    "当$q^2\\in(0,3)$时，由于第二项$\\pi$的存在，在非零点附近，函数的数量级至少是O(1)的。$y_{00}\\cdot g(n_0)\\cdot\\frac{e^{q^2-n_0^2}}{n_0^2-q^2}\\sim\n",
    "y_{00}\\cdot g(n_0)\\cdot\\frac{e^{3-n_0^2}}{n_0^2}\\simeq5.6\\cdot f_1(n_0) $"
   ]
  },
  {
   "cell_type": "markdown",
   "metadata": {},
   "source": [
    "故6位精度需要n的模方至少为18，此时n的数目为341"
   ]
  },
  {
   "cell_type": "markdown",
   "metadata": {},
   "source": [
    "12位精度需要n的模方至少为31，此时n的数目为739"
   ]
  },
  {
   "cell_type": "markdown",
   "metadata": {},
   "source": [
    "对于第三项的积分，有$e^{tq^2}\\in(1,e^3)$，$\\int_0^1dtt^{-3/2}e^{tq^2}e^{-(\\pi^2/t)n_0^2}=C(\\lambda)\\int_0^1dtt^{-3/2}e^{-(\\pi^2/t)n_0^2}=C(\\lambda)\\frac{erfc(\\pi n_0)}{n0\\sqrt{\\pi}}$，$C(\\lambda)\\in(1,e^3)$"
   ]
  },
  {
   "cell_type": "markdown",
   "metadata": {},
   "source": [
    "故$\\pi y_{00}\\cdot g(n_0^2)\\cdot\\int_0^1dtt^{-3/2}e^{tq^2}e^{-(\\pi^2/t)n_0^2}=y_{00} \\sqrt{\\pi}C(\\lambda)g(n_0^2) \\cdot \\frac{erfc(\\pi n_0)}{ n_0}$"
   ]
  },
  {
   "cell_type": "markdown",
   "metadata": {},
   "source": [
    "当$q^2<<1$时，$C(\\lambda)\\simeq1$，由$y_{00} \\sqrt{\\pi}C(\\lambda)g(n_0^2) \\cdot \\frac{erfc(\\pi n_0)}{ n_0}=\\epsilon\\cdot y_{00}{(q^2)^{-1}}$"
   ]
  },
  {
   "cell_type": "markdown",
   "metadata": {},
   "source": [
    "得$f_2(n_0^2)=\\sqrt{\\pi}g(n_0^2) \\cdot \\frac{erfc(\\pi n_0)}{ n_0}=\\epsilon\\cdot{(q^2)^{-1}}$，$f_2(n^2)$的前几个计算结果如下："
   ]
  },
  {
   "cell_type": "code",
   "execution_count": 19,
   "metadata": {},
   "outputs": [
    {
     "data": {
      "text/html": [
       "<div>\n",
       "<style>\n",
       "    .dataframe thead tr:only-child th {\n",
       "        text-align: right;\n",
       "    }\n",
       "\n",
       "    .dataframe thead th {\n",
       "        text-align: left;\n",
       "    }\n",
       "\n",
       "    .dataframe tbody tr th {\n",
       "        vertical-align: top;\n",
       "    }\n",
       "</style>\n",
       "<table border=\"1\" class=\"dataframe\">\n",
       "  <thead>\n",
       "    <tr style=\"text-align: right;\">\n",
       "      <th></th>\n",
       "      <th>n^2</th>\n",
       "      <th>1</th>\n",
       "      <th>2</th>\n",
       "      <th>3</th>\n",
       "      <th>4</th>\n",
       "      <th>5</th>\n",
       "    </tr>\n",
       "  </thead>\n",
       "  <tbody>\n",
       "    <tr>\n",
       "      <th>0</th>\n",
       "      <td>f2(n^2)</td>\n",
       "      <td>0.000063</td>\n",
       "      <td>5.404502e-09</td>\n",
       "      <td>3.900328e-13</td>\n",
       "      <td>2.362894e-17</td>\n",
       "      <td>1.913490e-21</td>\n",
       "    </tr>\n",
       "  </tbody>\n",
       "</table>\n",
       "</div>"
      ],
      "text/plain": [
       "       n^2         1             2             3             4             5\n",
       "0  f2(n^2)  0.000063  5.404502e-09  3.900328e-13  2.362894e-17  1.913490e-21"
      ]
     },
     "execution_count": 19,
     "metadata": {},
     "output_type": "execute_result"
    }
   ],
   "source": [
    "from scipy import special\n",
    "\n",
    "def f2(n): return np.sqrt(np.pi) * g(n) * special.erfc(np.pi * np.sqrt(n)) / np.sqrt(n)\n",
    "\n",
    "cl2 = range(1, 6)\n",
    "da2 = list(map(f2, cl2))\n",
    "pd.DataFrame(columns=([\"n^2\"]+list(cl2)),data=[[\"f2(n^2)\"]+da2])"
   ]
  },
  {
   "cell_type": "markdown",
   "metadata": {},
   "source": [
    "由此可见，当$q^2\\sim10^{-3}$时，不需要计算任何项可满足6位精度，n的模方取2即可满足12位精度"
   ]
  },
  {
   "cell_type": "markdown",
   "metadata": {},
   "source": [
    "当$q^2\\sim10^{-4}$时，不需要计算任何项可满足6位精度，n的模方取1即可满足12位精度"
   ]
  },
  {
   "cell_type": "markdown",
   "metadata": {},
   "source": [
    "当$q^2<10^{-8}$时，不需要计算任何项可满足12位精度"
   ]
  },
  {
   "cell_type": "markdown",
   "metadata": {},
   "source": [
    "当$q^2\\in(0,3)$时，取$C(q^2)=e^3$，则$C(\\lambda)\\simeq1$，由$y_{00} \\sqrt{\\pi}C(\\lambda)g(n_0^2) \\cdot \\frac{erfc(\\pi n_0)}{ n_0}\\simeq5.6\\cdot f_2(n_0) $"
   ]
  },
  {
   "cell_type": "markdown",
   "metadata": {},
   "source": [
    "故6位精度需要n的模方至少为1，此时n的数目为6\n",
    "\n",
    "12位精度需要n的模方至少为3，此时n的数目为26"
   ]
  },
  {
   "cell_type": "markdown",
   "metadata": {},
   "source": [
    "### (b)"
   ]
  },
  {
   "cell_type": "markdown",
   "metadata": {
    "collapsed": true
   },
   "source": [
    "当$q^2\\lesssim 1$时，有$z_{00}(1;q^2)=\\pi^{3/2}qcot\\delta_0(q^2)=\\pi^{3/2}(\\frac{1}{A}+\\frac{R_0}{2}q^2)\\in(5.57,6.96)$"
   ]
  },
  {
   "cell_type": "markdown",
   "metadata": {},
   "source": [
    "故$z_{00}(1;q^2)$的数量级为O(1)"
   ]
  },
  {
   "cell_type": "markdown",
   "metadata": {},
   "source": [
    "对于$z_{00}(1;q^2)$表达式的第三项的积分，由于$\\int_0^1dtt^{-3/2}(e^{tq^2}-1)=2+2e^{q^2}(-1+2q\\cdot dowsn(q))$"
   ]
  },
  {
   "cell_type": "markdown",
   "metadata": {},
   "source": [
    "其中dowsn(q)为道森积分，在scipy.special里有精确实现，得计算代码如下："
   ]
  },
  {
   "cell_type": "code",
   "execution_count": 20,
   "metadata": {
    "collapsed": true
   },
   "outputs": [],
   "source": [
    "# 第二部分积分计算\n",
    "@jit\n",
    "def int2(q): return 2 + 2 * np.exp(q) * (-1 + 2 * np.sqrt(q) * special.dawsn(np.sqrt(q)))\n"
   ]
  },
  {
   "cell_type": "markdown",
   "metadata": {},
   "source": [
    "对于第四部分的积分，采用数值积分的方法来计算，首先写一个计算数值积分的函数，于是得计算代码如下："
   ]
  },
  {
   "cell_type": "code",
   "execution_count": 21,
   "metadata": {
    "collapsed": true
   },
   "outputs": [],
   "source": [
    "# ------------------------------------------------------------\n",
    "# 以下一系列函数用于计算f的积分\n",
    "# 考虑到计算可能会慢，使用jit加速计算\n",
    "\n",
    "# f在区间[a,b]上面的积分\n",
    "# 采用7个点的Newton-Cortes积分法\n",
    "@jit\n",
    "def int_part(f, a, b):\n",
    "    pts = np.linspace(a, b, 7)\n",
    "    sigmas = np.array([41, 216, 27, 272, 27, 216, 41], dtype=float) / 840.\n",
    "    return np.sum(np.vectorize(f)(pts) * sigmas) * (b - a)\n",
    "\n",
    "\n",
    "# 在[a1,a2,a3...,an]上取所有的两个点之间进行f积分的求和\n",
    "@jit\n",
    "def int_sequence(f, array):\n",
    "    s = 0\n",
    "    num = array.shape[0]\n",
    "    for i in range(0, num - 1):\n",
    "        s += int_part(f, array[i], array[i + 1])\n",
    "    return s\n",
    "\n",
    "\n",
    "# 在一个序列之间插入中点\n",
    "@jit\n",
    "def addmidpoint(a):\n",
    "    n = a.shape[0]\n",
    "    b = np.zeros(2 * n - 1)\n",
    "    for i in range(2 * n - 1):\n",
    "        if i % 2 == 0:\n",
    "            b[i] = a[i // 2]\n",
    "        else:\n",
    "            b[i] = (a[i // 2] + a[i // 2 + 1]) / 2\n",
    "    return b\n",
    "\n",
    "\n",
    "# f(x)在区间(a,b)的精确积分，e为精确度设置\n",
    "@jit\n",
    "def int(f, a, b, e):\n",
    "    var1 = np.array([a, b], dtype=float)\n",
    "    var2 = addmidpoint(var1)\n",
    "    result1 = int_part(f, a, b)\n",
    "    result2 = int_sequence(f, var2)\n",
    "    while np.abs(result1 - result2) > e:\n",
    "        result1 = result2\n",
    "        var1 = var2\n",
    "        var2 = addmidpoint(var1)\n",
    "        result2 = int_sequence(f, var2)\n",
    "    return result2"
   ]
  },
  {
   "cell_type": "markdown",
   "metadata": {},
   "source": [
    "从而第四部分的单个积分值如下："
   ]
  },
  {
   "cell_type": "code",
   "execution_count": 22,
   "metadata": {
    "collapsed": true
   },
   "outputs": [],
   "source": [
    "# 第四部分的积分值\n",
    "# q为q^2,n为矢量n的模方,t为被积分变量\n",
    "@jit\n",
    "def f4(q, n, t):\n",
    "    if t == 0:\n",
    "        return 0\n",
    "    else:\n",
    "        return np.power(t, -3 / 2) * np.exp(t * q - np.pi ** 2 * n / t)\n",
    "\n",
    "\n",
    "def int4(q, n, e): return int(lambda x: f4(q, n, x), 0, 1, e)\n"
   ]
  },
  {
   "cell_type": "markdown",
   "metadata": {},
   "source": [
    "第四部分求和，实际上只要求|n|=1的情况乘以6，代码如下："
   ]
  },
  {
   "cell_type": "code",
   "execution_count": 23,
   "metadata": {
    "collapsed": true
   },
   "outputs": [],
   "source": [
    "def sum4(q): return 6*int4(q, 1, 1e-8) # 精确度多设置了一点\n"
   ]
  },
  {
   "cell_type": "markdown",
   "metadata": {},
   "source": [
    "第一部分求和："
   ]
  },
  {
   "cell_type": "code",
   "execution_count": 24,
   "metadata": {
    "collapsed": true
   },
   "outputs": [],
   "source": [
    "# ---------------------------------------------------------------------\n",
    "# 计算求和的指标\n",
    "# 第一项需要求和的数目\n",
    "y00 = 1 / np.sqrt(4 * np.pi)\n",
    "ns1 = []\n",
    "for i in range(-6, 7):\n",
    "    for j in range(-6, 7):\n",
    "        for k in range(-6, 7):\n",
    "            if i ** 2 + j ** 2 + k ** 2 <= 20: # 多计算了几项\n",
    "                ns1.append([i, j, k])\n",
    "\n",
    "                \n",
    "# 计算模方\n",
    "def norm2(n): return n[0] ** 2 + n[1] ** 2 + n[2] ** 2\n",
    "\n",
    "\n",
    "# q为q^2\n",
    "@jit\n",
    "def sum1(q):\n",
    "    s = 0\n",
    "    for i in ns1:\n",
    "        s += np.exp(q - norm2(i)) / (norm2(i) - q)\n",
    "    return y00 * s\n"
   ]
  },
  {
   "cell_type": "markdown",
   "metadata": {},
   "source": [
    "于是得到$z_{00}(1;q^2)$的实现："
   ]
  },
  {
   "cell_type": "code",
   "execution_count": 25,
   "metadata": {
    "collapsed": true
   },
   "outputs": [],
   "source": [
    "# z00(1,q)的实现\n",
    "def z00(q):\n",
    "    return sum1(q) - np.pi + np.pi / 2 * int2(q) + sum4(q)"
   ]
  },
  {
   "cell_type": "markdown",
   "metadata": {},
   "source": [
    "写一个割线法求方程解的程序："
   ]
  },
  {
   "cell_type": "code",
   "execution_count": 26,
   "metadata": {
    "collapsed": true
   },
   "outputs": [],
   "source": [
    "# --------------------------\n",
    "# 割线法求方程解\n",
    "def findroot(f, x1, x2, e):\n",
    "    t1, t2 = x1, x2\n",
    "    f1, f2 = f(x1), f(x2)\n",
    "    while np.abs(t1 - t2) > e:\n",
    "        t1, t2 = t2, t2 - (t2 - t1) * f2 / (f2 - f1)\n",
    "        f1, f2 = f2, f(t2)\n",
    "    return t2"
   ]
  },
  {
   "cell_type": "markdown",
   "metadata": {},
   "source": [
    "从而求根如下："
   ]
  },
  {
   "cell_type": "code",
   "execution_count": 27,
   "metadata": {},
   "outputs": [
    {
     "name": "stdout",
     "output_type": "stream",
     "text": [
      "0.794515497205\n"
     ]
    }
   ],
   "source": [
    "# -------------\n",
    "# 左边函数\n",
    "def left(q): return np.power(np.pi, 3 / 2) * (1 + 0.5 / 2 * q)\n",
    "\n",
    "\n",
    "# 二者之差\n",
    "def diff(q): return z00(q) - left(q)\n",
    "\n",
    "print(findroot(diff, 0.7, 0.8, 1e-7))"
   ]
  },
  {
   "cell_type": "markdown",
   "metadata": {},
   "source": [
    "故6位有效数字为0.794515"
   ]
  }
 ],
 "metadata": {
  "kernelspec": {
   "display_name": "Python 3",
   "language": "python",
   "name": "python3"
  },
  "language_info": {
   "codemirror_mode": {
    "name": "ipython",
    "version": 3
   },
   "file_extension": ".py",
   "mimetype": "text/x-python",
   "name": "python",
   "nbconvert_exporter": "python",
   "pygments_lexer": "ipython3",
   "version": "3.6.1"
  }
 },
 "nbformat": 4,
 "nbformat_minor": 2
}
